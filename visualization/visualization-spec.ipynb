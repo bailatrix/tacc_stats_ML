{
 "cells": [
  {
   "cell_type": "markdown",
   "metadata": {},
   "source": [
    "## Setting up visualization portion of project"
   ]
  },
  {
   "cell_type": "code",
   "execution_count": 1,
   "metadata": {},
   "outputs": [],
   "source": [
    "# visualization tools\n",
    "import pandas as pd\n",
    "import matplotlib.pyplot as plt\n",
    "import seaborn as sns\n",
    "\n",
    "from bokeh.plotting import figure, output_file, show\n",
    "from bokeh.models import ColumnDataSource\n",
    "from bokeh.models.tools import HoverTool"
   ]
  },
  {
   "cell_type": "code",
   "execution_count": 2,
   "metadata": {},
   "outputs": [],
   "source": [
    "# data tools\n",
    "import datetime as dt\n",
    "import numpy as np\n",
    "from random import sample\n",
    "from random import choice\n",
    "from scipy import stats"
   ]
  },
  {
   "cell_type": "code",
   "execution_count": 3,
   "metadata": {},
   "outputs": [],
   "source": [
    "# access to .csv job files\n",
    "from os import listdir"
   ]
  },
  {
   "cell_type": "code",
   "execution_count": 4,
   "metadata": {},
   "outputs": [],
   "source": [
    "# collect file names for all jobs\n",
    "train_files = [ '../jobs/train/'+file for file in listdir('../jobs/train/') if file.startswith('comet') ]\n",
    "test_files = [ '../jobs/test/'+file for file in listdir('../jobs/test/') if file.startswith('comet')]\n",
    "\n",
    "all_files = [ *train_files, *test_files]"
   ]
  },
  {
   "cell_type": "code",
   "execution_count": 5,
   "metadata": {},
   "outputs": [
    {
     "data": {
      "text/plain": [
       "10623"
      ]
     },
     "execution_count": 5,
     "metadata": {},
     "output_type": "execute_result"
    }
   ],
   "source": [
    "len(all_files)"
   ]
  },
  {
   "cell_type": "markdown",
   "metadata": {},
   "source": [
    "### Parse for trends\n",
    "**Notes:**\n",
    "    * Certain categories have been pre-selected to further analysis:\n",
    "        * intel_hsw: Intel Haswell Processor (HSW) (per core)\n",
    "        * intel_rapl: Running average power limit\n",
    "        * ib: Infiniband usage\n",
    "        * ib_sw: InfiniBand usage\n",
    "        * ib_ext: Infiniband usage\n",
    "        * llite: Lustre filesystem usage (per mount),\n",
    "        * lnet: Lustre network usage\n",
    "        * mdc: Lustre network usage\n",
    "        * osc: Lustre filesystem usage\n",
    "        * block: block device statistics (per device)\n",
    "        * cpu: scheduler accounting (per CPU)\n",
    "        * mem: memory usage (per socket)\n",
    "        * net: network device usage (per device)\n",
    "        * nfs: NFS system usage\n",
    "        * proc: Process specific data (MaxRSS, executable name etc.)\n",
    "        * sysv_shm SysV shared memory segment usage\n",
    "        * tmpfs: ram-backed filesystem usage (per mount)\n",
    "        * vm: virtual memory statistics\n",
    "    * Extreme case will also be evaluated"
   ]
  },
  {
   "cell_type": "code",
   "execution_count": 6,
   "metadata": {},
   "outputs": [],
   "source": [
    "all_jobs = []\n",
    "norm_jobs = []"
   ]
  },
  {
   "cell_type": "code",
   "execution_count": 7,
   "metadata": {},
   "outputs": [],
   "source": [
    "cols = {\n",
    "    \"amd64_pmc\": \"AMD Opteron performance counters (per core)\",\n",
    "        \"intel_hsw\": \"Intel Haswell Processor (HSW) (per core)\",\n",
    "        \"intel_hsw_ht\": \"Intel Haswell Processor - Hyper-threaded (per logical core)\",\n",
    "        \"intel_nhm\": \"Intel Nehalem Processor (NHM) (per core)\",\n",
    "        \"intel_uncore\": \"Westmere Uncore (WTM) (per socket)\",\n",
    "        \"intel_snb\": \"Intel Sandy Brige (SNB) or Ivy Bridge (IVB) Processor (per core)\",\n",
    "        \"intel_rapl\": \"Running average power limit\",\n",
    "        \"intel_hsw_cbo\": \"Caching Agent (CBo) for SNB (HSW) (per socket)\",\n",
    "        \"intel_hsw_pcu\": \"Power Control Unit for SNB (HSW) (per socket)\",\n",
    "        \"intel_hsw_imc\": \"Integrated Memory Controller for SNB (HSW) (per socket)\",\n",
    "        \"intel_hsw_qpi\": \"QPI Link Layer for SNB (HSW) (per socket)\",\n",
    "        \"intel_hsw_hau\": \"Home Agent Unit for SNB (HSW) (per socket)\",\n",
    "        \"intel_hsw_r2pci\": \"Ring to PCIe Agent for SNB (HSW) (per socket)\",\n",
    "        \"ib\": \"Infiniband usage (default)\",\n",
    "        \"ib_sw\": \"InfiniBand usage (sw)\",\n",
    "        \"ib_ext\": \"Infiniband usage (ext)\",\n",
    "        \"llite\": \"Lustre filesystem usage (per mount)\",\n",
    "        \"lnet\": \"Lustre network usage (lnet)\",\n",
    "        \"mdc\": \"Lustre network usage (mdc)\",\n",
    "        \"mic\": \"MIC scheduler account (per hardware thread)\",\n",
    "        \"osc\": \"Lustre filesystem usage (osc)\",\n",
    "        \"block\": \"Block device statistics (per device)\",\n",
    "        \"cpu\": \"Scheduler accounting (per CPU)\",\n",
    "        \"mem\": \"Memory usage (per socket)\",\n",
    "        \"net\": \"Network device usage (per device)\",\n",
    "        \"nfs\": \"NFS system usage\",\n",
    "        \"numa\": \"NUMA statistics (per socket)\",\n",
    "        \"proc\": \"Process specific data (MaxRSS, executable name etc.)\",\n",
    "        \"ps\": \"Process statistics\",\n",
    "        \"sysv_shm\": \"SysV shared memory segment usage\",\n",
    "        \"tmpfs\": \"Ram-backed filesystem usage (per mount)\",\n",
    "        #\"vfs\": \"Dentry_file_inode cache usage\",\n",
    "        \"vm\": \"Virtual memory statistics\"\n",
    "       }"
   ]
  },
  {
   "cell_type": "code",
   "execution_count": 8,
   "metadata": {},
   "outputs": [],
   "source": [
    "# Check if this program is missing any columns from the master list that are in the data\n",
    "def missing_cols ( ):\n",
    "    missing = []\n",
    "    \n",
    "    for df in all_jobs:\n",
    "        for col in df.columns.values:\n",
    "            if col not in cols.values() and col not in missing:\n",
    "                missing.append(col)\n",
    "    return missing"
   ]
  },
  {
   "cell_type": "code",
   "execution_count": 9,
   "metadata": {},
   "outputs": [],
   "source": [
    "# Check if there are any columns in the master list that are not in the data\n",
    "def unused_cols ( ):\n",
    "    unused = []\n",
    "    \n",
    "    for col in cols.values():\n",
    "        # don't change this, you knew what you were doing when you wrote it\n",
    "        notfound = [ (col in df) for df in all_jobs ]\n",
    "        \n",
    "        if all( (elem == False) for elem in notfound ):\n",
    "            unused.append(col)\n",
    "        \n",
    "    return unused"
   ]
  },
  {
   "cell_type": "code",
   "execution_count": 21,
   "metadata": {},
   "outputs": [],
   "source": [
    "# Check if there are any columns with values that don't change throughout jobs\n",
    "def static_cols ( ):\n",
    "    static = []\n",
    "    \n",
    "    for col in cols.values():\n",
    "        for df in all_jobs:\n",
    "            if col in df and df[col].nunique() == 1 and col not in static:\n",
    "                static.append(col)\n",
    "        \n",
    "    return static"
   ]
  },
  {
   "cell_type": "code",
   "execution_count": 11,
   "metadata": {},
   "outputs": [],
   "source": [
    "# normalize all data values in DataFrame\n",
    "def clean ( df ):\n",
    "    \n",
    "    for val in cols.values():\n",
    "        try:\n",
    "            df[[title]] = normalize( df[[title]], axis=0, norm='max', copy=False )\n",
    "        except:\n",
    "            next\n",
    "        \n",
    "    return df"
   ]
  },
  {
   "cell_type": "code",
   "execution_count": 12,
   "metadata": {},
   "outputs": [],
   "source": [
    "# extreme values\n",
    "most_cycles = ( pd.DataFrame() )\n",
    "most_stats = ( pd.DataFrame() )\n",
    "\n",
    "for i in range( len(all_files) ):\n",
    "    df = pd.read_csv( all_files[i] ).drop(\"Cycle\", 1)\n",
    "    \n",
    "    # make sure job ran for at least one hour\n",
    "    if (df.shape[0] > 6):\n",
    "        all_jobs.append( df )\n",
    "        norm_jobs.append( clean(df) )\n",
    "    \n",
    "        # find job with most cycles of collected stats\n",
    "        if (df.shape[0] > most_cycles.shape[0]): most_cycles = df\n",
    "        # find job with most types of stats\n",
    "        if (df.shape[1] > most_stats.shape[1]): most_stats = df"
   ]
  },
  {
   "cell_type": "code",
   "execution_count": 13,
   "metadata": {},
   "outputs": [
    {
     "data": {
      "text/plain": [
       "['Dentry/file/inode cache usage', 'intel_rapl']"
      ]
     },
     "execution_count": 13,
     "metadata": {},
     "output_type": "execute_result"
    }
   ],
   "source": [
    "missing_cols()"
   ]
  },
  {
   "cell_type": "code",
   "execution_count": 14,
   "metadata": {},
   "outputs": [
    {
     "data": {
      "text/plain": [
       "['AMD Opteron performance counters (per core)',\n",
       " 'Intel Haswell Processor - Hyper-threaded (per logical core)',\n",
       " 'Intel Nehalem Processor (NHM) (per core)',\n",
       " 'Westmere Uncore (WTM) (per socket)',\n",
       " 'Intel Sandy Brige (SNB) or Ivy Bridge (IVB) Processor (per core)',\n",
       " 'MIC scheduler account (per hardware thread)']"
      ]
     },
     "execution_count": 14,
     "metadata": {},
     "output_type": "execute_result"
    }
   ],
   "source": [
    "unused_cols()"
   ]
  },
  {
   "cell_type": "code",
   "execution_count": 22,
   "metadata": {},
   "outputs": [
    {
     "data": {
      "text/plain": [
       "['Power Control Unit for SNB (HSW) (per socket)',\n",
       " 'QPI Link Layer for SNB (HSW) (per socket)',\n",
       " 'Infiniband usage (default)',\n",
       " 'Lustre filesystem usage (per mount)',\n",
       " 'Block device statistics (per device)',\n",
       " 'NFS system usage',\n",
       " 'Process specific data (MaxRSS, executable name etc.)',\n",
       " 'SysV shared memory segment usage',\n",
       " 'Ram-backed filesystem usage (per mount)']"
      ]
     },
     "execution_count": 22,
     "metadata": {},
     "output_type": "execute_result"
    }
   ],
   "source": [
    "static_cols()"
   ]
  },
  {
   "cell_type": "code",
   "execution_count": 16,
   "metadata": {},
   "outputs": [
    {
     "data": {
      "text/plain": [
       "6104"
      ]
     },
     "execution_count": 16,
     "metadata": {},
     "output_type": "execute_result"
    }
   ],
   "source": [
    "len(all_jobs)"
   ]
  },
  {
   "cell_type": "code",
   "execution_count": 17,
   "metadata": {},
   "outputs": [
    {
     "data": {
      "text/plain": [
       "(526, 23)"
      ]
     },
     "execution_count": 17,
     "metadata": {},
     "output_type": "execute_result"
    }
   ],
   "source": [
    "most_cycles.shape"
   ]
  },
  {
   "cell_type": "code",
   "execution_count": 18,
   "metadata": {},
   "outputs": [
    {
     "data": {
      "text/plain": [
       "(7, 26)"
      ]
     },
     "execution_count": 18,
     "metadata": {},
     "output_type": "execute_result"
    }
   ],
   "source": [
    "most_stats.shape"
   ]
  },
  {
   "cell_type": "markdown",
   "metadata": {},
   "source": [
    "### Minor Data Cleaning"
   ]
  },
  {
   "cell_type": "code",
   "execution_count": null,
   "metadata": {},
   "outputs": [],
   "source": [
    "def ordinalize ( x ):\n",
    "    x = abs(int(x))\n",
    "    \n",
    "    if (x % 10 < 4) or (x % 100 < 4):\n",
    "        return {\n",
    "            1: f\"{x}st\",\n",
    "            2: f\"{x}nd\",\n",
    "            3: f\"{x}rd\",\n",
    "        }.get(x % 10, \"th\")\n",
    "    else:\n",
    "        return f\"{x}th\""
   ]
  },
  {
   "cell_type": "code",
   "execution_count": null,
   "metadata": {},
   "outputs": [],
   "source": [
    "def cycl_mean_all ( ):\n",
    "    return int(np.mean([ df.shape[0] for df in all_jobs ]))\n",
    "    \n",
    "def cycl_mean_spec ( col ):\n",
    "    return int(np.mean([ df.shape[0] for df in all_jobs if col in df]))    "
   ]
  },
  {
   "cell_type": "code",
   "execution_count": null,
   "metadata": {},
   "outputs": [],
   "source": [
    "# find the most frequent number of cycles for all jobs\n",
    "def mode_all ( ):\n",
    "    return int( stats.mode( [df.shape[0] for df in all_jobs] )[0][0] )\n",
    "\n",
    "# find the most frequent number of cycles for a specific set\n",
    "def mode_spec ( col ):\n",
    "    return int( stats.mode( [df.shape[0] for df in all_jobs if col in df] )[0][0] )"
   ]
  },
  {
   "cell_type": "code",
   "execution_count": null,
   "metadata": {},
   "outputs": [],
   "source": [
    "def ymax ( col, jobs=all_jobs ):\n",
    "    ymax = 0\n",
    "    \n",
    "    for df in jobs:\n",
    "        if col in df and df[col].max() > ymax:\n",
    "            ymax = df[col].max()\n",
    "    return ymax"
   ]
  },
  {
   "cell_type": "markdown",
   "metadata": {},
   "source": [
    "### matplotlib with seaborn"
   ]
  },
  {
   "cell_type": "code",
   "execution_count": null,
   "metadata": {},
   "outputs": [],
   "source": [
    "themes = ['inferno', 'ocean', 'tab20c', 'winter', 'summer', 'Wistia', 'hot', 'bone', 'pink',\n",
    "         'BuGn', 'Blues', 'Purples', 'GnBu', 'YlGn', 'plasma', 'magma', 'viridis', 'BuPu', 'Blues']"
   ]
  },
  {
   "cell_type": "code",
   "execution_count": null,
   "metadata": {},
   "outputs": [],
   "source": [
    "def plot_all ( col, mode=mode_all() ):\n",
    "    modeList = [ df for df in all_jobs if df.shape[0] == mode ]\n",
    "    \n",
    "    for job in modeList:\n",
    "        try:\n",
    "            plt.plot( job[col] )\n",
    "        except:\n",
    "            next\n",
    "    \n",
    "    plt.grid( True )\n",
    "    plt.gcf().set_size_inches(15, 11)\n",
    "    sns.despine()\n",
    "    \n",
    "def plot_n ( col, n, mode=mode_all() ):\n",
    "    modeList = [ df for df in all_jobs if df.shape[0] == mode ]\n",
    "    s = sample( modeList , n )\n",
    "    \n",
    "    for job in s:\n",
    "        try:\n",
    "            plt.plot( job[col] )\n",
    "        except:\n",
    "            next\n",
    "    \n",
    "    plt.grid( True )\n",
    "    plt.gcf().set_size_inches(15, 11)\n",
    "    sns.despine()"
   ]
  },
  {
   "cell_type": "code",
   "execution_count": null,
   "metadata": {},
   "outputs": [],
   "source": [
    "mode = mode_all()\n",
    "xrng = np.arange(1, mode)\n",
    "for trend in cols.values():\n",
    "    print( ymax(trend), trend )\n",
    "    #print( \"Max:\", ymax(trend) )\n",
    "    #print( \"Step:\", ymax(trend)/mode )\n",
    "    #print( \"Range:\", np.arange(0, ymax(trend), ymax(trend)/mode))"
   ]
  },
  {
   "cell_type": "code",
   "execution_count": null,
   "metadata": {},
   "outputs": [],
   "source": [
    "# choose ranges\n",
    "n = 25\n",
    "mode = mode_all()\n",
    "xrng = np.arange(1, mode)\n",
    "\n",
    "for trend in cols.values():   # len(cols)\n",
    "    yticks = np.arange(0, ymax(trend), )\n",
    "    \n",
    "    # generate plot\n",
    "    sns.set(\"notebook\", palette=choice(themes), font_scale=1.5, rc={\"lines.linewidth\": 2.5})\n",
    "    plot_n( trend, n)\n",
    "    \n",
    "    # label and format plot\n",
    "    plt.suptitle(    trend, fontsize=25, fontweight='bold' )\n",
    "    plt.title(       f\"Sample of {n} jobs with {mode} cycles of data\")\n",
    "    plt.xticks(      xrng, [ ordinalize(i) for i in xrng ], fontsize='large' )\n",
    "    plt.xlabel(      \"Cycle Data Collected\", labelpad=15, fontweight='bold', fontsize='x-large' )\n",
    "    #plt.ylabel(      f\"SUs\", labelpad=15, fontweight='bold', fontsize='x-large' )\n",
    "    \n",
    "    # save\n",
    "    plt.savefig( f\"./graphs/{trend}_sample.png\", bbox='tight')"
   ]
  },
  {
   "cell_type": "code",
   "execution_count": null,
   "metadata": {},
   "outputs": [],
   "source": [
    "ax = sns.regplot(x=\"size\", y=\"total_bill\", data=tips,\n",
    "                 x_estimator=np.mean)"
   ]
  },
  {
   "cell_type": "code",
   "execution_count": null,
   "metadata": {},
   "outputs": [],
   "source": [
    "ans = sns.load_dataset(\"anscombe\")\n",
    ">>> ax = sns.regplot(x=\"x\", y=\"y\", data=ans.loc[ans.dataset == \"II\"],\n",
    "...                  scatter_kws={\"s\": 80},\n",
    "...                  order=2, ci=None, truncate=True)"
   ]
  },
  {
   "cell_type": "code",
   "execution_count": null,
   "metadata": {},
   "outputs": [],
   "source": [
    "sns.set()\n",
    "\n",
    "# Load the iris dataset\n",
    "iris = sns.load_dataset(trend[0])\n",
    "\n",
    "# Plot sepal with as a function of sepal_length across days\n",
    "g = sns.lmplot(x=\"sepal_length\", y=\"sepal_width\", hue=\"species\",\n",
    "               truncate=True, size=5, data=iris)\n",
    "\n",
    "# Use more informative axis labels than are provided by default\n",
    "g.set_axis_labels(\"Sepal length (mm)\", \"Sepal width (mm)\")"
   ]
  },
  {
   "cell_type": "code",
   "execution_count": null,
   "metadata": {},
   "outputs": [],
   "source": [
    "sns.set(style=\"whitegrid\")\n",
    "\n",
    "# Load the example iris dataset\n",
    "diamonds = sns.load_dataset(\"diamonds\")\n",
    "\n",
    "# Draw a scatter plot while assigning point colors and sizes to different\n",
    "# variables in the dataset\n",
    "f, ax = plt.subplots(figsize=(6.5, 6.5))\n",
    "sns.despine(f, left=True, bottom=True)\n",
    "clarity_ranking = [\"I1\", \"SI2\", \"SI1\", \"VS2\", \"VS1\", \"VVS2\", \"VVS1\", \"IF\"]\n",
    "sns.scatterplot(x=\"carat\", y=\"price\",\n",
    "                hue=\"clarity\", size=\"depth\",\n",
    "                palette=\"ch:r=-.2,d=.3_r\",\n",
    "                hue_order=clarity_ranking,\n",
    "                sizes=(1, 8), linewidth=0,\n",
    "                data=diamonds, ax=ax)"
   ]
  },
  {
   "cell_type": "markdown",
   "metadata": {},
   "source": [
    "# Bokeh Visualizations"
   ]
  },
  {
   "cell_type": "code",
   "execution_count": null,
   "metadata": {},
   "outputs": [],
   "source": [
    "output_file('bokeh_example.html')\n",
    "\n",
    "sample = most_cycles[1] #.sample(50)\n",
    "source = ColumnDataSource(sample)\n",
    "p = figure()\n",
    "#p.circle(x='TOTAL_TONS', y='AC_ATTACKING',\n",
    "#         source=source,\n",
    "#         size=10, color='green')\n",
    "#p.title.text = 'Attacking Aircraft and Munitions Dropped'\n",
    "#p.xaxis.axis_label = 'Tons of Munitions Dropped'\n",
    "#p.yaxis.axis_label = 'Number of Attacking Aircraft'\n",
    "#hover = HoverTool()\n",
    "#hover.tooltips=[\n",
    "#    ('Attack Date', '@MSNDATE'),\n",
    "#    ('Attacking Aircraft', '@AC_ATTACKING'),\n",
    "#    ('Tons of Munitions', '@TOTAL_TONS'),\n",
    "#    ('Type of Aircraft', '@AIRCRAFT_NAME')\n",
    "#]\n",
    "#\n",
    "#p.add_tools(hover)\n",
    "#\n",
    "#show(p)"
   ]
  }
 ],
 "metadata": {
  "kernelspec": {
   "display_name": "Python 3",
   "language": "python",
   "name": "python3"
  },
  "language_info": {
   "codemirror_mode": {
    "name": "ipython",
    "version": 3
   },
   "file_extension": ".py",
   "mimetype": "text/x-python",
   "name": "python",
   "nbconvert_exporter": "python",
   "pygments_lexer": "ipython3",
   "version": "3.6.6"
  }
 },
 "nbformat": 4,
 "nbformat_minor": 2
}
