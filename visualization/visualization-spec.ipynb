{
 "cells": [
  {
   "cell_type": "markdown",
   "metadata": {},
   "source": [
    "## Setting up visualization portion of project"
   ]
  },
  {
   "cell_type": "code",
   "execution_count": 1,
   "metadata": {},
   "outputs": [],
   "source": [
    "# visualization tools\n",
    "import pandas as pd\n",
    "import matplotlib.pyplot as plt\n",
    "import seaborn as sns\n",
    "\n",
    "from bokeh.plotting import figure, output_file, show\n",
    "from bokeh.models import ColumnDataSource\n",
    "from bokeh.models.tools import HoverTool"
   ]
  },
  {
   "cell_type": "code",
   "execution_count": 2,
   "metadata": {},
   "outputs": [],
   "source": [
    "# data tools\n",
    "import datetime as dt\n",
    "import numpy as np\n",
    "from random import sample\n",
    "from random import choice\n",
    "from scipy import stats"
   ]
  },
  {
   "cell_type": "code",
   "execution_count": 3,
   "metadata": {},
   "outputs": [],
   "source": [
    "# access to .csv job files\n",
    "from os import listdir"
   ]
  },
  {
   "cell_type": "code",
   "execution_count": 4,
   "metadata": {},
   "outputs": [],
   "source": [
    "# collect file names for all jobs\n",
    "train_files = [ '../jobs/train/'+file for file in listdir('../jobs/train/') if file.startswith('comet') ]\n",
    "test_files = [ '../jobs/test/'+file for file in listdir('../jobs/test/') if file.startswith('comet')]\n",
    "\n",
    "all_files = [ *train_files, *test_files]"
   ]
  },
  {
   "cell_type": "code",
   "execution_count": 5,
   "metadata": {},
   "outputs": [
    {
     "data": {
      "text/plain": [
       "10617"
      ]
     },
     "execution_count": 5,
     "metadata": {},
     "output_type": "execute_result"
    }
   ],
   "source": [
    "len(all_files)"
   ]
  },
  {
   "cell_type": "markdown",
   "metadata": {},
   "source": [
    "### Parse for trends\n",
    "**Notes:**\n",
    "    * Certain categories have been pre-selected to further analysis:\n",
    "        * intel_hsw: Intel Haswell Processor (HSW) (per core)\n",
    "        * intel_rapl: Running average power limit\n",
    "        * ib: Infiniband usage\n",
    "        * ib_sw: InfiniBand usage\n",
    "        * ib_ext: Infiniband usage\n",
    "        * llite: Lustre filesystem usage (per mount),\n",
    "        * lnet: Lustre network usage\n",
    "        * mdc: Lustre network usage\n",
    "        * osc: Lustre filesystem usage\n",
    "        * block: block device statistics (per device)\n",
    "        * cpu: scheduler accounting (per CPU)\n",
    "        * mem: memory usage (per socket)\n",
    "        * net: network device usage (per device)\n",
    "        * nfs: NFS system usage\n",
    "        * proc: Process specific data (MaxRSS, executable name etc.)\n",
    "        * sysv_shm SysV shared memory segment usage\n",
    "        * tmpfs: ram-backed filesystem usage (per mount)\n",
    "        * vm: virtual memory statistics\n",
    "    * Extreme case will also be evaluated"
   ]
  },
  {
   "cell_type": "code",
   "execution_count": 33,
   "metadata": {},
   "outputs": [],
   "source": [
    "all_jobs = []\n",
    "norm_jobs = []"
   ]
  },
  {
   "cell_type": "code",
   "execution_count": 42,
   "metadata": {},
   "outputs": [],
   "source": [
    "cols = {\n",
    "    \"amd64_pmc\": \"AMD Opteron performance counters (per core)\",\n",
    "        \"intel_hsw\": \"Intel Haswell Processor (HSW) (per core)\",\n",
    "        \"intel_hsw_ht\": \"Intel Haswell Processor - Hyper-threaded (per logical core)\",\n",
    "        \"intel_nhm\": \"Intel Nehalem Processor (NHM) (per core)\",\n",
    "        \"intel_uncore\": \"Westmere Uncore (WTM) (per socket)\",\n",
    "        \"intel_snb\": \"Intel Sandy Brige (SNB) or Ivy Bridge (IVB) Processor (per core)\",\n",
    "        \"intel_rapl\": \"Running average power limit\",\n",
    "        \"intel_hsw_cbo\": \"Caching Agent (CBo) for SNB (HSW) (per socket)\",\n",
    "        \"intel_hsw_pcu\": \"Power Control Unit for SNB (HSW) (per socket)\",\n",
    "        \"intel_hsw_imc\": \"Integrated Memory Controller for SNB (HSW) (per socket)\",\n",
    "        \"intel_hsw_qpi\": \"QPI Link Layer for SNB (HSW) (per socket)\",\n",
    "        \"intel_hsw_hau\": \"Home Agent Unit for SNB (HSW) (per socket)\",\n",
    "        \"intel_hsw_r2pci\": \"Ring to PCIe Agent for SNB (HSW) (per socket)\",\n",
    "        \"ib\": \"Infiniband usage (default)\",\n",
    "        \"ib_sw\": \"InfiniBand usage (sw)\",\n",
    "        \"ib_ext\": \"Infiniband usage (ext)\",\n",
    "        \"llite\": \"Lustre filesystem usage (per mount)\",\n",
    "        \"lnet\": \"Lustre network usage (lnet)\",\n",
    "        \"mdc\": \"Lustre network usage (mdc)\",\n",
    "        \"mic\": \"MIC scheduler account (per hardware thread)\",\n",
    "        \"osc\": \"Lustre filesystem usage (osc)\",\n",
    "        \"block\": \"Block device statistics (per device)\",\n",
    "        \"cpu\": \"Scheduler accounting (per CPU)\",\n",
    "        \"mem\": \"Memory usage (per socket)\",\n",
    "        \"net\": \"Network device usage (per device)\",\n",
    "        \"nfs\": \"NFS system usage\",\n",
    "        \"numa\": \"NUMA statistics (per socket)\",\n",
    "        \"proc\": \"Process specific data (MaxRSS, executable name etc.)\",\n",
    "        \"ps\": \"Process statistics\",\n",
    "        \"sysv_shm\": \"SysV shared memory segment usage\",\n",
    "        \"tmpfs\": \"Ram-backed filesystem usage (per mount)\",\n",
    "        \"vfs\": \"Dentry_file_inode cache usage\",\n",
    "        \"vm\": \"Virtual memory statistics\"\n",
    "       }"
   ]
  },
  {
   "cell_type": "code",
   "execution_count": null,
   "metadata": {},
   "outputs": [],
   "source": [
    "def missing_cols ( ):\n",
    "    return [ df[col] for df in all_jobs if df[col] not in cols.values() ]\n",
    "\n",
    "missing_cols()"
   ]
  },
  {
   "cell_type": "code",
   "execution_count": null,
   "metadata": {},
   "outputs": [],
   "source": [
    "def unused_cols ( ret=False ):\n",
    "    for df in all_jobs:\n",
    "        found = [ col in df for ]\n",
    "            if all( val == False for val in ):\n",
    "                \n",
    "\n",
    "unused_cols()"
   ]
  },
  {
   "cell_type": "code",
   "execution_count": 35,
   "metadata": {},
   "outputs": [],
   "source": [
    "# normalize all data values in DataFrame\n",
    "def clean ( df ):\n",
    "    \n",
    "    for val in cols.values():\n",
    "        try:\n",
    "            df[[title]] = normalize( df[[title]], axis=0, norm='max', copy=False )\n",
    "        except:\n",
    "            next\n",
    "        \n",
    "    return df"
   ]
  },
  {
   "cell_type": "code",
   "execution_count": 36,
   "metadata": {},
   "outputs": [],
   "source": [
    "# extreme values\n",
    "most_cycles = ( pd.DataFrame() )\n",
    "most_stats = ( pd.DataFrame() )\n",
    "\n",
    "for i in range( len(all_files) ):\n",
    "    df = pd.read_csv( all_files[i] ).drop(\"Cycle\", 1)\n",
    "    \n",
    "    # make sure job ran for at least one hour\n",
    "    if (df.shape[0] > 6):\n",
    "        all_jobs.append( df )\n",
    "        norm_jobs.append( clean(df) )\n",
    "    \n",
    "        # find job with most cycles of collected stats\n",
    "        if (df.shape[0] > most_cycles.shape[0]): most_cycles = df\n",
    "        # find job with most types of stats\n",
    "        if (df.shape[1] > most_stats.shape[1]): most_stats = df"
   ]
  },
  {
   "cell_type": "code",
   "execution_count": 37,
   "metadata": {},
   "outputs": [
    {
     "data": {
      "text/plain": [
       "6098"
      ]
     },
     "execution_count": 37,
     "metadata": {},
     "output_type": "execute_result"
    }
   ],
   "source": [
    "len(all_jobs)"
   ]
  },
  {
   "cell_type": "code",
   "execution_count": 38,
   "metadata": {},
   "outputs": [
    {
     "data": {
      "text/plain": [
       "(526, 23)"
      ]
     },
     "execution_count": 38,
     "metadata": {},
     "output_type": "execute_result"
    }
   ],
   "source": [
    "most_cycles.shape"
   ]
  },
  {
   "cell_type": "code",
   "execution_count": 39,
   "metadata": {},
   "outputs": [
    {
     "data": {
      "text/plain": [
       "(7, 26)"
      ]
     },
     "execution_count": 39,
     "metadata": {},
     "output_type": "execute_result"
    }
   ],
   "source": [
    "most_stats.shape"
   ]
  },
  {
   "cell_type": "markdown",
   "metadata": {},
   "source": [
    "### Minor Data Cleaning"
   ]
  },
  {
   "cell_type": "code",
   "execution_count": 17,
   "metadata": {},
   "outputs": [],
   "source": [
    "def ordinalize ( x ):\n",
    "    x = abs(int(x))\n",
    "    \n",
    "    if (x % 10 < 4) or (x % 100 < 4):\n",
    "        return {\n",
    "            1: f\"{x}st\",\n",
    "            2: f\"{x}nd\",\n",
    "            3: f\"{x}rd\",\n",
    "        }.get(x % 10, \"th\")\n",
    "    else:\n",
    "        return f\"{x}th\""
   ]
  },
  {
   "cell_type": "code",
   "execution_count": 16,
   "metadata": {},
   "outputs": [],
   "source": [
    "def cycl_mean_all ( ):\n",
    "    return int(np.mean([ df.shape[0] for df in all_jobs ]))\n",
    "    \n",
    "def cycl_mean_spec ( col ):\n",
    "    return int(np.mean([ df.shape[0] for df in all_jobs if col in df]))    "
   ]
  },
  {
   "cell_type": "code",
   "execution_count": 18,
   "metadata": {},
   "outputs": [],
   "source": [
    "# find the most frequent number of cycles for all jobs\n",
    "def mode_all ( ):\n",
    "    return int( stats.mode( [df.shape[0] for df in all_jobs] )[0][0] )\n",
    "\n",
    "# find the most frequent number of cycles for a specific set\n",
    "def mode_spec ( col ):\n",
    "    return int( stats.mode( [df.shape[0] for df in all_jobs if col in df] )[0][0] )"
   ]
  },
  {
   "cell_type": "code",
   "execution_count": 19,
   "metadata": {},
   "outputs": [],
   "source": [
    "def ymax ( col, jobs=all_jobs ):\n",
    "    ymax = 0\n",
    "    \n",
    "    for df in jobs:\n",
    "        if col in df and df[col].max() > ymax:\n",
    "            ymax = df[col].max()\n",
    "    return ymax"
   ]
  },
  {
   "cell_type": "markdown",
   "metadata": {},
   "source": [
    "### matplotlib with seaborn"
   ]
  },
  {
   "cell_type": "code",
   "execution_count": 20,
   "metadata": {},
   "outputs": [],
   "source": [
    "themes = ['inferno', 'ocean', 'tab20c', 'winter', 'summer', 'Wistia', 'hot', 'bone', 'pink',\n",
    "         'BuGn', 'Blues', 'Purples', 'GnBu', 'YlGn', 'plasma', 'magma', 'viridis', 'BuPu', 'Blues']"
   ]
  },
  {
   "cell_type": "code",
   "execution_count": 22,
   "metadata": {},
   "outputs": [],
   "source": [
    "def plot_all ( col, mode=mode_all() ):\n",
    "    modeList = [ df for df in all_jobs if df.shape[0] == mode ]\n",
    "    \n",
    "    for job in modeList:\n",
    "        try:\n",
    "            plt.plot( job[col] )\n",
    "        except:\n",
    "            next\n",
    "    \n",
    "    plt.grid( True )\n",
    "    plt.gcf().set_size_inches(15, 11)\n",
    "    sns.despine()\n",
    "    \n",
    "def plot_n ( col, n, mode=mode_all() ):\n",
    "    modeList = [ df for df in all_jobs if df.shape[0] == mode ]\n",
    "    s = sample( modeList , n )\n",
    "    \n",
    "    for job in s:\n",
    "        try:\n",
    "            plt.plot( job[col] )\n",
    "        except:\n",
    "            next\n",
    "    \n",
    "    plt.grid( True )\n",
    "    plt.gcf().set_size_inches(15, 11)\n",
    "    sns.despine()"
   ]
  },
  {
   "cell_type": "code",
   "execution_count": 43,
   "metadata": {},
   "outputs": [
    {
     "data": {
      "text/html": [
       "<div>\n",
       "<style scoped>\n",
       "    .dataframe tbody tr th:only-of-type {\n",
       "        vertical-align: middle;\n",
       "    }\n",
       "\n",
       "    .dataframe tbody tr th {\n",
       "        vertical-align: top;\n",
       "    }\n",
       "\n",
       "    .dataframe thead th {\n",
       "        text-align: right;\n",
       "    }\n",
       "</style>\n",
       "<table border=\"1\" class=\"dataframe\">\n",
       "  <thead>\n",
       "    <tr style=\"text-align: right;\">\n",
       "      <th></th>\n",
       "      <th>Block device statistics (per device)</th>\n",
       "      <th>Scheduler accounting (per CPU)</th>\n",
       "      <th>Infiniband usage (default)</th>\n",
       "      <th>Infiniband usage (ext)</th>\n",
       "      <th>InfiniBand usage (sw)</th>\n",
       "      <th>Intel Haswell Processor (HSW) (per core)</th>\n",
       "      <th>Caching Agent (CBo) for SNB (HSW) (per socket)</th>\n",
       "      <th>Home Agent Unit for SNB (HSW) (per socket)</th>\n",
       "      <th>Integrated Memory Controller for SNB (HSW) (per socket)</th>\n",
       "      <th>Power Control Unit for SNB (HSW) (per socket)</th>\n",
       "      <th>...</th>\n",
       "      <th>Memory usage (per socket)</th>\n",
       "      <th>Network device usage (per device)</th>\n",
       "      <th>NFS system usage</th>\n",
       "      <th>NUMA statistics (per socket)</th>\n",
       "      <th>Process specific data (MaxRSS, executable name etc.)</th>\n",
       "      <th>Process statistics</th>\n",
       "      <th>SysV shared memory segment usage</th>\n",
       "      <th>Ram-backed filesystem usage (per mount)</th>\n",
       "      <th>Dentry/file/inode cache usage</th>\n",
       "      <th>Virtual memory statistics</th>\n",
       "    </tr>\n",
       "  </thead>\n",
       "  <tbody>\n",
       "    <tr>\n",
       "      <th>0</th>\n",
       "      <td>0.000</td>\n",
       "      <td>0.000</td>\n",
       "      <td>0.000</td>\n",
       "      <td>0.1</td>\n",
       "      <td>0.000000e+00</td>\n",
       "      <td>0.000000e+00</td>\n",
       "      <td>0.000000e+00</td>\n",
       "      <td>0.000000e+00</td>\n",
       "      <td>0.0</td>\n",
       "      <td>0.000000e+00</td>\n",
       "      <td>...</td>\n",
       "      <td>8.574070e+09</td>\n",
       "      <td>0.000</td>\n",
       "      <td>0.0</td>\n",
       "      <td>0.000</td>\n",
       "      <td>231096.867</td>\n",
       "      <td>141.286</td>\n",
       "      <td>0.0</td>\n",
       "      <td>0.5</td>\n",
       "      <td>7446.667</td>\n",
       "      <td>0.000</td>\n",
       "    </tr>\n",
       "    <tr>\n",
       "      <th>1</th>\n",
       "      <td>1115006.636</td>\n",
       "      <td>8570.000</td>\n",
       "      <td>461.765</td>\n",
       "      <td>443951.3</td>\n",
       "      <td>1.105668e+06</td>\n",
       "      <td>4.959721e+07</td>\n",
       "      <td>5.923230e+06</td>\n",
       "      <td>1.816521e+11</td>\n",
       "      <td>13253004.4</td>\n",
       "      <td>2.504902e+11</td>\n",
       "      <td>...</td>\n",
       "      <td>8.574947e+09</td>\n",
       "      <td>4644.696</td>\n",
       "      <td>0.0</td>\n",
       "      <td>14254.333</td>\n",
       "      <td>231096.867</td>\n",
       "      <td>27892.429</td>\n",
       "      <td>0.0</td>\n",
       "      <td>0.5</td>\n",
       "      <td>7859.667</td>\n",
       "      <td>1203765.667</td>\n",
       "    </tr>\n",
       "    <tr>\n",
       "      <th>2</th>\n",
       "      <td>1417809.364</td>\n",
       "      <td>17139.714</td>\n",
       "      <td>920.706</td>\n",
       "      <td>877918.5</td>\n",
       "      <td>2.186563e+06</td>\n",
       "      <td>1.002623e+08</td>\n",
       "      <td>1.235332e+07</td>\n",
       "      <td>3.637875e+11</td>\n",
       "      <td>26476441.2</td>\n",
       "      <td>5.009755e+11</td>\n",
       "      <td>...</td>\n",
       "      <td>8.575076e+09</td>\n",
       "      <td>9477.826</td>\n",
       "      <td>0.0</td>\n",
       "      <td>29036.333</td>\n",
       "      <td>231096.867</td>\n",
       "      <td>56492.143</td>\n",
       "      <td>0.0</td>\n",
       "      <td>0.5</td>\n",
       "      <td>7908.000</td>\n",
       "      <td>1562784.810</td>\n",
       "    </tr>\n",
       "    <tr>\n",
       "      <th>3</th>\n",
       "      <td>2017781.000</td>\n",
       "      <td>25709.286</td>\n",
       "      <td>1394.176</td>\n",
       "      <td>1322207.5</td>\n",
       "      <td>3.293010e+06</td>\n",
       "      <td>1.606465e+08</td>\n",
       "      <td>1.904076e+07</td>\n",
       "      <td>5.455998e+11</td>\n",
       "      <td>39772440.4</td>\n",
       "      <td>7.514421e+11</td>\n",
       "      <td>...</td>\n",
       "      <td>8.576113e+09</td>\n",
       "      <td>14803.435</td>\n",
       "      <td>0.0</td>\n",
       "      <td>51610.000</td>\n",
       "      <td>231096.867</td>\n",
       "      <td>85169.429</td>\n",
       "      <td>0.0</td>\n",
       "      <td>0.5</td>\n",
       "      <td>7958.333</td>\n",
       "      <td>2291466.810</td>\n",
       "    </tr>\n",
       "    <tr>\n",
       "      <th>4</th>\n",
       "      <td>2101977.727</td>\n",
       "      <td>34276.714</td>\n",
       "      <td>1867.471</td>\n",
       "      <td>1757810.5</td>\n",
       "      <td>4.377899e+06</td>\n",
       "      <td>3.890725e+08</td>\n",
       "      <td>2.520958e+07</td>\n",
       "      <td>7.272520e+11</td>\n",
       "      <td>52994325.4</td>\n",
       "      <td>1.002260e+12</td>\n",
       "      <td>...</td>\n",
       "      <td>8.576126e+09</td>\n",
       "      <td>19182.913</td>\n",
       "      <td>0.0</td>\n",
       "      <td>65591.000</td>\n",
       "      <td>231096.867</td>\n",
       "      <td>112765.000</td>\n",
       "      <td>0.0</td>\n",
       "      <td>0.5</td>\n",
       "      <td>7974.000</td>\n",
       "      <td>2399557.667</td>\n",
       "    </tr>\n",
       "    <tr>\n",
       "      <th>5</th>\n",
       "      <td>3300778.909</td>\n",
       "      <td>42846.143</td>\n",
       "      <td>22349.824</td>\n",
       "      <td>117035479.8</td>\n",
       "      <td>2.923950e+08</td>\n",
       "      <td>3.524842e+09</td>\n",
       "      <td>1.597764e+08</td>\n",
       "      <td>9.155648e+11</td>\n",
       "      <td>72911722.0</td>\n",
       "      <td>1.248021e+12</td>\n",
       "      <td>...</td>\n",
       "      <td>8.982168e+09</td>\n",
       "      <td>24344.391</td>\n",
       "      <td>0.0</td>\n",
       "      <td>363554.333</td>\n",
       "      <td>231096.867</td>\n",
       "      <td>186725.000</td>\n",
       "      <td>0.0</td>\n",
       "      <td>65961986.5</td>\n",
       "      <td>9551.667</td>\n",
       "      <td>3832135.286</td>\n",
       "    </tr>\n",
       "    <tr>\n",
       "      <th>6</th>\n",
       "      <td>3418507.818</td>\n",
       "      <td>51417.286</td>\n",
       "      <td>22802.353</td>\n",
       "      <td>117464934.4</td>\n",
       "      <td>2.934647e+08</td>\n",
       "      <td>2.606744e+11</td>\n",
       "      <td>4.347285e+09</td>\n",
       "      <td>1.364583e+12</td>\n",
       "      <td>74422335.2</td>\n",
       "      <td>1.251230e+12</td>\n",
       "      <td>...</td>\n",
       "      <td>8.982559e+09</td>\n",
       "      <td>30075.217</td>\n",
       "      <td>0.0</td>\n",
       "      <td>371884.000</td>\n",
       "      <td>231096.867</td>\n",
       "      <td>214513.000</td>\n",
       "      <td>0.0</td>\n",
       "      <td>65961986.5</td>\n",
       "      <td>9795.000</td>\n",
       "      <td>3966438.571</td>\n",
       "    </tr>\n",
       "  </tbody>\n",
       "</table>\n",
       "<p>7 rows × 23 columns</p>\n",
       "</div>"
      ],
      "text/plain": [
       "   Block device statistics (per device)  Scheduler accounting (per CPU)  \\\n",
       "0                                 0.000                           0.000   \n",
       "1                           1115006.636                        8570.000   \n",
       "2                           1417809.364                       17139.714   \n",
       "3                           2017781.000                       25709.286   \n",
       "4                           2101977.727                       34276.714   \n",
       "5                           3300778.909                       42846.143   \n",
       "6                           3418507.818                       51417.286   \n",
       "\n",
       "   Infiniband usage (default)  Infiniband usage (ext)  InfiniBand usage (sw)  \\\n",
       "0                       0.000                     0.1           0.000000e+00   \n",
       "1                     461.765                443951.3           1.105668e+06   \n",
       "2                     920.706                877918.5           2.186563e+06   \n",
       "3                    1394.176               1322207.5           3.293010e+06   \n",
       "4                    1867.471               1757810.5           4.377899e+06   \n",
       "5                   22349.824             117035479.8           2.923950e+08   \n",
       "6                   22802.353             117464934.4           2.934647e+08   \n",
       "\n",
       "   Intel Haswell Processor (HSW) (per core)  \\\n",
       "0                              0.000000e+00   \n",
       "1                              4.959721e+07   \n",
       "2                              1.002623e+08   \n",
       "3                              1.606465e+08   \n",
       "4                              3.890725e+08   \n",
       "5                              3.524842e+09   \n",
       "6                              2.606744e+11   \n",
       "\n",
       "   Caching Agent (CBo) for SNB (HSW) (per socket)  \\\n",
       "0                                    0.000000e+00   \n",
       "1                                    5.923230e+06   \n",
       "2                                    1.235332e+07   \n",
       "3                                    1.904076e+07   \n",
       "4                                    2.520958e+07   \n",
       "5                                    1.597764e+08   \n",
       "6                                    4.347285e+09   \n",
       "\n",
       "   Home Agent Unit for SNB (HSW) (per socket)  \\\n",
       "0                                0.000000e+00   \n",
       "1                                1.816521e+11   \n",
       "2                                3.637875e+11   \n",
       "3                                5.455998e+11   \n",
       "4                                7.272520e+11   \n",
       "5                                9.155648e+11   \n",
       "6                                1.364583e+12   \n",
       "\n",
       "   Integrated Memory Controller for SNB (HSW) (per socket)  \\\n",
       "0                                                0.0         \n",
       "1                                         13253004.4         \n",
       "2                                         26476441.2         \n",
       "3                                         39772440.4         \n",
       "4                                         52994325.4         \n",
       "5                                         72911722.0         \n",
       "6                                         74422335.2         \n",
       "\n",
       "   Power Control Unit for SNB (HSW) (per socket)            ...              \\\n",
       "0                                   0.000000e+00            ...               \n",
       "1                                   2.504902e+11            ...               \n",
       "2                                   5.009755e+11            ...               \n",
       "3                                   7.514421e+11            ...               \n",
       "4                                   1.002260e+12            ...               \n",
       "5                                   1.248021e+12            ...               \n",
       "6                                   1.251230e+12            ...               \n",
       "\n",
       "   Memory usage (per socket)  Network device usage (per device)  \\\n",
       "0               8.574070e+09                              0.000   \n",
       "1               8.574947e+09                           4644.696   \n",
       "2               8.575076e+09                           9477.826   \n",
       "3               8.576113e+09                          14803.435   \n",
       "4               8.576126e+09                          19182.913   \n",
       "5               8.982168e+09                          24344.391   \n",
       "6               8.982559e+09                          30075.217   \n",
       "\n",
       "   NFS system usage  NUMA statistics (per socket)  \\\n",
       "0               0.0                         0.000   \n",
       "1               0.0                     14254.333   \n",
       "2               0.0                     29036.333   \n",
       "3               0.0                     51610.000   \n",
       "4               0.0                     65591.000   \n",
       "5               0.0                    363554.333   \n",
       "6               0.0                    371884.000   \n",
       "\n",
       "   Process specific data (MaxRSS, executable name etc.)  Process statistics  \\\n",
       "0                                         231096.867                141.286   \n",
       "1                                         231096.867              27892.429   \n",
       "2                                         231096.867              56492.143   \n",
       "3                                         231096.867              85169.429   \n",
       "4                                         231096.867             112765.000   \n",
       "5                                         231096.867             186725.000   \n",
       "6                                         231096.867             214513.000   \n",
       "\n",
       "   SysV shared memory segment usage  Ram-backed filesystem usage (per mount)  \\\n",
       "0                               0.0                                      0.5   \n",
       "1                               0.0                                      0.5   \n",
       "2                               0.0                                      0.5   \n",
       "3                               0.0                                      0.5   \n",
       "4                               0.0                                      0.5   \n",
       "5                               0.0                               65961986.5   \n",
       "6                               0.0                               65961986.5   \n",
       "\n",
       "   Dentry/file/inode cache usage  Virtual memory statistics  \n",
       "0                       7446.667                      0.000  \n",
       "1                       7859.667                1203765.667  \n",
       "2                       7908.000                1562784.810  \n",
       "3                       7958.333                2291466.810  \n",
       "4                       7974.000                2399557.667  \n",
       "5                       9551.667                3832135.286  \n",
       "6                       9795.000                3966438.571  \n",
       "\n",
       "[7 rows x 23 columns]"
      ]
     },
     "execution_count": 43,
     "metadata": {},
     "output_type": "execute_result"
    }
   ],
   "source": [
    "all_jobs[0]"
   ]
  },
  {
   "cell_type": "code",
   "execution_count": 41,
   "metadata": {},
   "outputs": [
    {
     "name": "stdout",
     "output_type": "stream",
     "text": [
      "0 AMD Opteron performance counters (per core)\n",
      "1977491715928914.5 Intel Haswell Processor (HSW) (per core)\n",
      "0 Intel Haswell Processor - Hyper-threaded (per logical core)\n",
      "0 Intel Nehalem Processor (NHM) (per core)\n",
      "0 Westmere Uncore (WTM) (per socket)\n",
      "0 Intel Sandy Brige (SNB) or Ivy Bridge (IVB) Processor (per core)\n",
      "253409740015.667 Running average power limit\n",
      "1971806164793004.8 Caching Agent (CBo) for SNB (HSW) (per socket)\n",
      "300712963864294.8 Power Control Unit for SNB (HSW) (per socket)\n",
      "1576360837893429.5 Integrated Memory Controller for SNB (HSW) (per socket)\n",
      "1478162135539331.2 QPI Link Layer for SNB (HSW) (per socket)\n",
      "1981875537387140.8 Home Agent Unit for SNB (HSW) (per socket)\n",
      "128158447077131.77 Ring to PCIe Agent for SNB (HSW) (per socket)\n",
      "2512799741.6470003 Infiniband usage (default)\n",
      "3711846531857209.0 InfiniBand usage (sw)\n",
      "35621744981178.6 Infiniband usage (ext)\n",
      "18014691515.485 Lustre filesystem usage (per mount)\n",
      "1922091722275.833 Lustre network usage (lnet)\n",
      "88527365.1 Lustre network usage (mdc)\n",
      "0 MIC scheduler account (per hardware thread)\n",
      "87972184.6 Lustre filesystem usage (osc)\n",
      "887980645428.909 Block device statistics (per device)\n",
      "8623649.429 Scheduler accounting (per CPU)\n",
      "60418145280.0 Memory usage (per socket)\n",
      "8495701400.696 Network device usage (per device)\n",
      "5.462385381049912e+18 NFS system usage\n",
      "10660722005.5 NUMA statistics (per socket)\n",
      "9.838263505978462e+18 Process specific data (MaxRSS, executable name etc.)\n",
      "11375970840.713999 Process statistics\n",
      "1926309228.0 SysV shared memory segment usage\n",
      "10051387395.0 Ram-backed filesystem usage (per mount)\n",
      "0 Dentry\f",
      "ile\\inode cache usage\n",
      "930382626270.905 Virtual memory statistics\n"
     ]
    }
   ],
   "source": [
    "mode = mode_all()\n",
    "xrng = np.arange(1, mode)\n",
    "for trend in cols.values():\n",
    "    print( ymax(trend), trend )\n",
    "    #print( \"Max:\", ymax(trend) )\n",
    "    #print( \"Step:\", ymax(trend)/mode )\n",
    "    #print( \"Range:\", np.arange(0, ymax(trend), ymax(trend)/mode))"
   ]
  },
  {
   "cell_type": "code",
   "execution_count": null,
   "metadata": {},
   "outputs": [],
   "source": [
    "# choose ranges\n",
    "n = 25\n",
    "mode = mode_all()\n",
    "xrng = np.arange(1, mode)\n",
    "\n",
    "for trend in cols.values():   # len(cols)\n",
    "    yticks = np.arange(0, ymax(trend), )\n",
    "    \n",
    "    # generate plot\n",
    "    sns.set(\"notebook\", palette=choice(themes), font_scale=1.5, rc={\"lines.linewidth\": 2.5})\n",
    "    plot_n( trend, n)\n",
    "    \n",
    "    # label and format plot\n",
    "    plt.suptitle(    trend, fontsize=25, fontweight='bold' )\n",
    "    plt.title(       f\"Sample of {n} jobs with {mode} cycles of data\")\n",
    "    plt.xticks(      xrng, [ ordinalize(i) for i in xrng ], fontsize='large' )\n",
    "    plt.xlabel(      \"Cycle Data Collected\", labelpad=15, fontweight='bold', fontsize='x-large' )\n",
    "    #plt.ylabel(      f\"SUs\", labelpad=15, fontweight='bold', fontsize='x-large' )\n",
    "    \n",
    "    # save\n",
    "    plt.savefig( f\"./graphs/{trend}_sample.png\", bbox='tight')"
   ]
  },
  {
   "cell_type": "code",
   "execution_count": null,
   "metadata": {},
   "outputs": [],
   "source": [
    "ax = sns.regplot(x=\"size\", y=\"total_bill\", data=tips,\n",
    "                 x_estimator=np.mean)"
   ]
  },
  {
   "cell_type": "code",
   "execution_count": null,
   "metadata": {},
   "outputs": [],
   "source": [
    "ans = sns.load_dataset(\"anscombe\")\n",
    ">>> ax = sns.regplot(x=\"x\", y=\"y\", data=ans.loc[ans.dataset == \"II\"],\n",
    "...                  scatter_kws={\"s\": 80},\n",
    "...                  order=2, ci=None, truncate=True)"
   ]
  },
  {
   "cell_type": "code",
   "execution_count": null,
   "metadata": {},
   "outputs": [],
   "source": [
    "sns.set()\n",
    "\n",
    "# Load the iris dataset\n",
    "iris = sns.load_dataset(trend[0])\n",
    "\n",
    "# Plot sepal with as a function of sepal_length across days\n",
    "g = sns.lmplot(x=\"sepal_length\", y=\"sepal_width\", hue=\"species\",\n",
    "               truncate=True, size=5, data=iris)\n",
    "\n",
    "# Use more informative axis labels than are provided by default\n",
    "g.set_axis_labels(\"Sepal length (mm)\", \"Sepal width (mm)\")"
   ]
  },
  {
   "cell_type": "code",
   "execution_count": null,
   "metadata": {},
   "outputs": [],
   "source": [
    "sns.set(style=\"whitegrid\")\n",
    "\n",
    "# Load the example iris dataset\n",
    "diamonds = sns.load_dataset(\"diamonds\")\n",
    "\n",
    "# Draw a scatter plot while assigning point colors and sizes to different\n",
    "# variables in the dataset\n",
    "f, ax = plt.subplots(figsize=(6.5, 6.5))\n",
    "sns.despine(f, left=True, bottom=True)\n",
    "clarity_ranking = [\"I1\", \"SI2\", \"SI1\", \"VS2\", \"VS1\", \"VVS2\", \"VVS1\", \"IF\"]\n",
    "sns.scatterplot(x=\"carat\", y=\"price\",\n",
    "                hue=\"clarity\", size=\"depth\",\n",
    "                palette=\"ch:r=-.2,d=.3_r\",\n",
    "                hue_order=clarity_ranking,\n",
    "                sizes=(1, 8), linewidth=0,\n",
    "                data=diamonds, ax=ax)"
   ]
  },
  {
   "cell_type": "markdown",
   "metadata": {},
   "source": [
    "# Bokeh Visualizations"
   ]
  },
  {
   "cell_type": "code",
   "execution_count": null,
   "metadata": {},
   "outputs": [],
   "source": [
    "output_file('bokeh_example.html')\n",
    "\n",
    "sample = most_cycles[1] #.sample(50)\n",
    "source = ColumnDataSource(sample)\n",
    "p = figure()\n",
    "#p.circle(x='TOTAL_TONS', y='AC_ATTACKING',\n",
    "#         source=source,\n",
    "#         size=10, color='green')\n",
    "#p.title.text = 'Attacking Aircraft and Munitions Dropped'\n",
    "#p.xaxis.axis_label = 'Tons of Munitions Dropped'\n",
    "#p.yaxis.axis_label = 'Number of Attacking Aircraft'\n",
    "#hover = HoverTool()\n",
    "#hover.tooltips=[\n",
    "#    ('Attack Date', '@MSNDATE'),\n",
    "#    ('Attacking Aircraft', '@AC_ATTACKING'),\n",
    "#    ('Tons of Munitions', '@TOTAL_TONS'),\n",
    "#    ('Type of Aircraft', '@AIRCRAFT_NAME')\n",
    "#]\n",
    "#\n",
    "#p.add_tools(hover)\n",
    "#\n",
    "#show(p)"
   ]
  }
 ],
 "metadata": {
  "kernelspec": {
   "display_name": "Python 3",
   "language": "python",
   "name": "python3"
  },
  "language_info": {
   "codemirror_mode": {
    "name": "ipython",
    "version": 3
   },
   "file_extension": ".py",
   "mimetype": "text/x-python",
   "name": "python",
   "nbconvert_exporter": "python",
   "pygments_lexer": "ipython3",
   "version": "3.6.6"
  }
 },
 "nbformat": 4,
 "nbformat_minor": 2
}
