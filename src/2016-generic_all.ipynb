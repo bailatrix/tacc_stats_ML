{
 "cells": [
  {
   "cell_type": "markdown",
   "metadata": {},
   "source": [
    "#### Dependencies"
   ]
  },
  {
   "cell_type": "code",
   "execution_count": 1,
   "metadata": {},
   "outputs": [],
   "source": [
    "# Pickle file dependencies\n",
    "from tacc_stats.pickler.job_stats import Job\n",
    "import cPickle as pickle"
   ]
  },
  {
   "cell_type": "code",
   "execution_count": 2,
   "metadata": {},
   "outputs": [],
   "source": [
    "# System dependencies\n",
    "from os import listdir\n",
    "import time as clock\n",
    "from IPython.display import clear_output"
   ]
  },
  {
   "cell_type": "code",
   "execution_count": 3,
   "metadata": {},
   "outputs": [],
   "source": [
    "# Data manipulation dependencies\n",
    "import pandas as pd\n",
    "import numpy as np"
   ]
  },
  {
   "cell_type": "code",
   "execution_count": 4,
   "metadata": {},
   "outputs": [],
   "source": [
    "# Directory of all pickled jobs via comet\n",
    "# new_dir = '/oasis/projects/nsf/sys200/stats/xsede_stats/archive'\n",
    "source_dir = '/oasis/projects/nsf/sys200/tcooper/xsede_stats/comet_pickles/'\n",
    "\n",
    "# Directory of pre-cleaned job files\n",
    "dates_dir = './modules/data/dates(2016)/'\n",
    "\n",
    "# Directory to save to\n",
    "save_dir = './modules/data/raw/'"
   ]
  },
  {
   "cell_type": "code",
   "execution_count": 5,
   "metadata": {},
   "outputs": [
    {
     "data": {
      "text/plain": [
       "['2016-10-07',\n",
       " '2016-08-06',\n",
       " '2016-09-27',\n",
       " '2016-06-26',\n",
       " '2016-07-07',\n",
       " '2016-11-14',\n",
       " '2016-09-15',\n",
       " '2016-08-15',\n",
       " '2016-10-14',\n",
       " '2016-07-26',\n",
       " '2016-08-27',\n",
       " '2016-10-26',\n",
       " '2016-09-06',\n",
       " '2016-11-07',\n",
       " '2016-07-14',\n",
       " '2016-07-19',\n",
       " '2016-09-01',\n",
       " '2016-07-13',\n",
       " '2016-10-21',\n",
       " '2016-08-20',\n",
       " '2016-07-21',\n",
       " '2016-10-19',\n",
       " '2016-08-18',\n",
       " '2016-10-13',\n",
       " '2016-08-12',\n",
       " '2016-09-18',\n",
       " '2016-11-19',\n",
       " '2016-09-12',\n",
       " '2016-11-13',\n",
       " '2016-09-20',\n",
       " '2016-11-21',\n",
       " '2016-08-01',\n",
       " '2016-09-24',\n",
       " '2016-10-04',\n",
       " '2016-08-05',\n",
       " '2016-11-17',\n",
       " '2016-09-16',\n",
       " '2016-07-04',\n",
       " '2016-06-25',\n",
       " '2016-07-25',\n",
       " '2016-08-16',\n",
       " '2016-10-17',\n",
       " '2016-07-17',\n",
       " '2016-09-05',\n",
       " '2016-11-04',\n",
       " '2016-08-24',\n",
       " '2016-10-25',\n",
       " '2016-10-22',\n",
       " '2016-08-23',\n",
       " '2016-10-28',\n",
       " '2016-08-29',\n",
       " '2016-11-09',\n",
       " '2016-09-08',\n",
       " '2016-11-03',\n",
       " '2016-09-02',\n",
       " '2016-10-10',\n",
       " '2016-08-11',\n",
       " '2016-07-22',\n",
       " '2016-07-28',\n",
       " '2016-09-30',\n",
       " '2016-06-22',\n",
       " '2016-08-30',\n",
       " '2016-10-31',\n",
       " '2016-06-28',\n",
       " '2016-09-11',\n",
       " '2016-11-10',\n",
       " '2016-07-03',\n",
       " '2016-08-08',\n",
       " '2016-10-09',\n",
       " '2016-08-02',\n",
       " '2016-10-03',\n",
       " '2016-09-23',\n",
       " '2016-11-22',\n",
       " '2016-09-29',\n",
       " '2016-07-31',\n",
       " '2016-09-13',\n",
       " '2016-11-12',\n",
       " '2016-09-19',\n",
       " '2016-07-01',\n",
       " '2016-11-18',\n",
       " '2016-09-21',\n",
       " '2016-11-20',\n",
       " '2016-10-01',\n",
       " '2016-07-12',\n",
       " '2016-11-01',\n",
       " '2016-07-18',\n",
       " '2016-10-20',\n",
       " '2016-08-21',\n",
       " '2016-07-20',\n",
       " '2016-10-12',\n",
       " '2016-08-13',\n",
       " '2016-10-18',\n",
       " '2016-08-19',\n",
       " '2016-08-14',\n",
       " '2016-10-15',\n",
       " '2016-07-27',\n",
       " '2016-08-26',\n",
       " '2016-10-27',\n",
       " '2016-07-15',\n",
       " '2016-09-07',\n",
       " '2016-11-06',\n",
       " '2016-10-06',\n",
       " '2016-08-07',\n",
       " '2016-09-26',\n",
       " '2016-06-27',\n",
       " '2016-11-15',\n",
       " '2016-09-14',\n",
       " '2016-07-06',\n",
       " '2016-08-31',\n",
       " '2016-06-29',\n",
       " '2016-10-30',\n",
       " '2016-06-23',\n",
       " '2016-07-02',\n",
       " '2016-09-10',\n",
       " '2016-11-11',\n",
       " '2016-08-03',\n",
       " '2016-10-02',\n",
       " '2016-08-09',\n",
       " '2016-10-08',\n",
       " '2016-09-28',\n",
       " '2016-07-30',\n",
       " '2016-09-22',\n",
       " '2016-11-23',\n",
       " '2016-10-29',\n",
       " '2016-06-30',\n",
       " '2016-08-28',\n",
       " '2016-10-23',\n",
       " '2016-08-22',\n",
       " '2016-11-02',\n",
       " '2016-09-03',\n",
       " '2016-11-08',\n",
       " '2016-07-11',\n",
       " '2016-09-09',\n",
       " '2016-10-11',\n",
       " '2016-08-10',\n",
       " '2016-07-29',\n",
       " '2016-07-23',\n",
       " '2016-07-24',\n",
       " '2016-08-17',\n",
       " '2016-10-16',\n",
       " '2016-09-04',\n",
       " '2016-11-05',\n",
       " '2016-07-16',\n",
       " '2016-08-25',\n",
       " '2016-10-24',\n",
       " '2016-09-25',\n",
       " '2016-10-05',\n",
       " '2016-08-04',\n",
       " '2016-07-05',\n",
       " '2016-11-16',\n",
       " '2016-09-17',\n",
       " '2016-06-24']"
      ]
     },
     "execution_count": 5,
     "metadata": {},
     "output_type": "execute_result"
    }
   ],
   "source": [
    "listdir(source_dir)"
   ]
  },
  {
   "cell_type": "code",
   "execution_count": 6,
   "metadata": {},
   "outputs": [],
   "source": [
    "dates_dict = {date:dates_dir+date for date in listdir(dates_dir)}\n",
    "dates_list = dates_dict.keys()"
   ]
  },
  {
   "cell_type": "code",
   "execution_count": 7,
   "metadata": {},
   "outputs": [
    {
     "data": {
      "text/plain": [
       "97"
      ]
     },
     "execution_count": 7,
     "metadata": {},
     "output_type": "execute_result"
    }
   ],
   "source": [
    "len(dates_list)"
   ]
  },
  {
   "cell_type": "markdown",
   "metadata": {},
   "source": [
    "#### Read in jobs from cleaned jobs directory"
   ]
  },
  {
   "cell_type": "code",
   "execution_count": 8,
   "metadata": {},
   "outputs": [],
   "source": [
    "def prep_target( date_file ):\n",
    "    jobs_list = []\n",
    "    \n",
    "    # open file and read the content in a list\n",
    "    with open(date_file, 'r') as f:\n",
    "        lines = f.readlines()\n",
    "    \n",
    "        for jobid in lines:\n",
    "            current = jobid[:-1]\n",
    "            jobs_list.append(current)\n",
    "    \n",
    "    return jobs_list"
   ]
  },
  {
   "cell_type": "markdown",
   "metadata": {},
   "source": [
    "# Access and open pickled job files\n",
    "**Process:**\n",
    "    - Iterate through the non-empty date folders available in source_dir\n",
    "    - A file is saved in valid_jobs if:\n",
    "        * The pickled file is a Job object\n",
    "        * The job ran for more than 6 cycles (1 hour)\n",
    "        * The total number of jobs saved at the end of the previous date folder is less than 1000\n",
    "            _This is purely to keep the computations manageable according to compute time requested_\n",
    "    - Exceptions are skipped"
   ]
  },
  {
   "cell_type": "code",
   "execution_count": 9,
   "metadata": {},
   "outputs": [],
   "source": [
    "target_date = dates_list[23]\n",
    "target_file = dates_dict[ target_date ]\n",
    "jobids = prep_target( target_file )\n",
    "n = len(jobids)"
   ]
  },
  {
   "cell_type": "code",
   "execution_count": 10,
   "metadata": {},
   "outputs": [
    {
     "name": "stdout",
     "output_type": "stream",
     "text": [
      "Processing file 1139 of 1139 files \t (100% of total files)\n",
      "\n",
      "Run time: 85.5s\n"
     ]
    }
   ],
   "source": [
    "job_objects = []\n",
    "t0 = clock.time()\n",
    "total = 0\n",
    "\n",
    "for jobid in jobids:\n",
    "    total += 1\n",
    "    clear_output(wait=True)\n",
    "    print(\"Processing file {} of {} files \\t ({}% of total files)\".format(total, n, np.round( total/n*100, 2)))\n",
    "    \n",
    "    pickle_file = open( source_dir+target_date+'/'+jobid, 'rb')\n",
    "    job_file = pickle.load(pickle_file)\n",
    "    job_objects.append(job_file)\n",
    "    pickle_file.close()      \n",
    "        \n",
    "    t2 = clock.time()\n",
    "    print\n",
    "    print(\"Run time: {}s\".format(np.round(t2-t0, 1)))"
   ]
  },
  {
   "cell_type": "markdown",
   "metadata": {},
   "source": [
    "### Loops in loops in loops (Cleaning data)\n",
    "**Notes:**\n",
    "    - If a value is missing from the data, it will be replaced with '0' for the purpose of this project\n",
    "    - If a type of statistic was not collected on the job, that column is dropped from the DataFrame\n",
    "    - Two files are created during each iteration:\n",
    "         1) A .csv of the descriptive statistics for that host,job pair\n",
    "         2) A full .csv of the host,job data from the formatted DataFrame\n",
    "    - Naming convention: Files are labelled as '{host}_{jobid}' to support random lookup\n",
    "         * A job run on multiple host nodes is processed and saved with each individual host,job pair *"
   ]
  },
  {
   "cell_type": "code",
   "execution_count": 11,
   "metadata": {},
   "outputs": [],
   "source": [
    "m = float(sum([len(job.hosts.keys()) for job in job_objects]))\n",
    "cut = len(job_objects)/2"
   ]
  },
  {
   "cell_type": "code",
   "execution_count": 12,
   "metadata": {},
   "outputs": [
    {
     "name": "stdout",
     "output_type": "stream",
     "text": [
      "Jobs:\t\t\t1139\n",
      "Total Host,Job Pairs:\t2362\n"
     ]
    }
   ],
   "source": [
    "print \"Jobs:\\t\\t\\t\", len(job_objects)\n",
    "print \"Total Host,Job Pairs:\\t\", int(m)"
   ]
  },
  {
   "cell_type": "code",
   "execution_count": 13,
   "metadata": {},
   "outputs": [],
   "source": [
    "start = 800 #1500\n",
    "stop = len(job_objects)"
   ]
  },
  {
   "cell_type": "code",
   "execution_count": null,
   "metadata": {},
   "outputs": [
    {
     "name": "stdout",
     "output_type": "stream",
     "text": [
      "Processing hosts for job 800 of 1139 \t (0.25% of total)\n",
      "Processing hosts for job 800 of 1139 \t (0.3% of total)\n",
      "Processing hosts for job 800 of 1139 \t (0.34% of total)\n",
      "Processing hosts for job 800 of 1139 \t (0.38% of total)\n",
      "Processing hosts for job 800 of 1139 \t (0.42% of total)\n",
      "Processing hosts for job 800 of 1139 \t (0.47% of total)\n",
      "Processing hosts for job 800 of 1139 \t (0.51% of total)\n",
      "Processing hosts for job 800 of 1139 \t (0.55% of total)\n",
      "Processing hosts for job 800 of 1139 \t (0.59% of total)\n",
      "Processing hosts for job 800 of 1139 \t (0.64% of total)\n",
      "Processing hosts for job 800 of 1139 \t (0.68% of total)\n",
      "Processing hosts for job 800 of 1139 \t (0.72% of total)\n",
      "Processing hosts for job 800 of 1139 \t (0.76% of total)\n"
     ]
    }
   ],
   "source": [
    "schemas = {}\n",
    "schemas_devices = {}\n",
    "job_objects[0].schemas\n",
    "t0 = clock.time()\n",
    "total = 0\n",
    "current = 0\n",
    "\n",
    "for job in range( start, stop ):\n",
    "    clear_output(wait=True)\n",
    "\n",
    "    # general job values\n",
    "    jobid = job_objects[job]\n",
    "    start = pd.to_datetime(round(jobid.start_time), unit='s').time()\n",
    "    end = pd.to_datetime(round(jobid.end_time), unit='s').time()\n",
    "    numCycles = len(jobid.times)\n",
    "    total += 1\n",
    "    type_avgs = {}\n",
    "    times = []\n",
    "    \n",
    "    ##################################\n",
    "    #  build master list of schemas  #\n",
    "    ##################################\n",
    "    for stat in jobid.schemas.keys():\n",
    "        if stat not in schemas.keys():\n",
    "             schemas[stat] = jobid.schemas[stat].keys()\n",
    "    \n",
    "    # iterate through each host object job was run on\n",
    "    for host_name, host in jobid.hosts.iteritems():\n",
    "        current += 1\n",
    "        \n",
    "        try:\n",
    "            print(\"Processing hosts for job {} of {} \\t ({}% of total)\".format(job+1, stop, np.round( (current)/m*100, 2)))\n",
    "            \n",
    "            ##################################\n",
    "            #    convert timestamps to dt    #\n",
    "            ##################################\n",
    "            times.append(start)\n",
    "            for time in host.times:\n",
    "                times.append( pd.to_datetime(round(time), unit='s').time() )\n",
    "            times.append(end)\n",
    "            \n",
    "            ##################################\n",
    "            #  build master list of devices  #\n",
    "            ##################################\n",
    "            for stat in host.stats.keys():\n",
    "                if stat not in schemas_devices.keys():\n",
    "                    schemas_devices[stat] = host.stats[stat].keys()\n",
    "                 \n",
    "            indices_all = []\n",
    "            for stat,devices in schemas_devices.items():\n",
    "                for device in devices:\n",
    "                    for schema in schemas[stat]:\n",
    "                        indices_all.append( (stat,device,schema) )\n",
    "    \n",
    "            all_idx = pd.MultiIndex.from_tuples(indices_all, names=['Stat', 'Device', 'Schema'])  \n",
    "            all_df = pd.DataFrame( index=all_idx, columns=times ).sort_index()\n",
    "            \n",
    "            ##################################\n",
    "            #   iterate through host.stats   #\n",
    "            ##################################\n",
    "            for host_name,host in jobid.hosts.items():\n",
    "                for stat,devices in host.stats.items():\n",
    "                    for device,cycles in devices.items():\n",
    "                        for i in range(len(cycles)):\n",
    "                            for j in range(len(cycles[i])):\n",
    "                                try:\n",
    "                                    time = times[i]\n",
    "                                    schema = schemas[stat][j]\n",
    "                                    all_df.loc[(stat,device,schema),time] = cycles[i][j]\n",
    "                                except:\n",
    "                                    next\n",
    "            \n",
    "            all_df.to_csv(path_or_buf=save_dir+\"{}_{}.csv\".format( host_name, jobid.id ))\n",
    "            \n",
    "        except:\n",
    "            next"
   ]
  },
  {
   "cell_type": "code",
   "execution_count": null,
   "metadata": {},
   "outputs": [],
   "source": [
    "# check that no job was missed\n",
    "if total == m:\n",
    "    print \"Success!\"\n",
    "else:\n",
    "    print len(job_objects) - total, \"jobs missing\""
   ]
  },
  {
   "cell_type": "code",
   "execution_count": null,
   "metadata": {},
   "outputs": [],
   "source": []
  }
 ],
 "metadata": {
  "kernelspec": {
   "display_name": "Python 2",
   "language": "python",
   "name": "python2"
  },
  "language_info": {
   "codemirror_mode": {
    "name": "ipython",
    "version": 2
   },
   "file_extension": ".py",
   "mimetype": "text/x-python",
   "name": "python",
   "nbconvert_exporter": "python",
   "pygments_lexer": "ipython2",
   "version": "2.7.12"
  }
 },
 "nbformat": 4,
 "nbformat_minor": 2
}
