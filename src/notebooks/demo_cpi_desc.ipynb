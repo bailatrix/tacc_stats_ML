{
 "cells": [
  {
   "cell_type": "markdown",
   "metadata": {},
   "source": [
    "# Performance Data Lookup"
   ]
  },
  {
   "cell_type": "code",
   "execution_count": 1,
   "metadata": {},
   "outputs": [],
   "source": [
    "# System dependencies\n",
    "import prep_IO\n",
    "import prep_xdmod"
   ]
  },
  {
   "cell_type": "code",
   "execution_count": 2,
   "metadata": {},
   "outputs": [],
   "source": [
    "import pickle"
   ]
  },
  {
   "cell_type": "code",
   "execution_count": 3,
   "metadata": {},
   "outputs": [],
   "source": [
    "# Data manipulation dependencies\n",
    "import pandas as pd\n",
    "import numpy as np\n",
    "import matplotlib.pyplot as plt"
   ]
  },
  {
   "cell_type": "code",
   "execution_count": 4,
   "metadata": {},
   "outputs": [],
   "source": [
    "data = prep_IO.quick_load( './sample_B' )"
   ]
  },
  {
   "cell_type": "markdown",
   "metadata": {},
   "source": [
    "# Setup\n",
    "- __FIXED_CTR0__ Instructions Retired\n",
    "- __FIXED_CTR1__ Core Clock Cycles\n",
    "- __FIXED_CTR2__ Reference Clock Cycles"
   ]
  },
  {
   "cell_type": "markdown",
   "metadata": {},
   "source": [
    "### apply cpi to each (CTR0, CTR1)"
   ]
  },
  {
   "cell_type": "markdown",
   "metadata": {},
   "source": [
    "- `sets_wo_hist` apply singular summary cpi calculation to datum\n",
    "- `sets_w_hist` apply running cpi calculations by t_x in datum"
   ]
  },
  {
   "cell_type": "code",
   "execution_count": 5,
   "metadata": {},
   "outputs": [],
   "source": [
    "sets_wo_hist = prep_xdmod.fill_cpi( data, cpi_hist=False )\n",
    "sets_w_hist = prep_xdmod.fill_cpi( data, cpi_hist=True )"
   ]
  },
  {
   "cell_type": "code",
   "execution_count": 13,
   "metadata": {},
   "outputs": [],
   "source": [
    "sample_cpi = sets_wo_hist[0]\n",
    "sample_hist = list(sets_w_hist[0].values())\n",
    "sample_desc = []\n",
    "\n",
    "for i in range(len(sets_w_hist)):\n",
    "    set_w_hist = sets_w_hist[i]\n",
    "    vals = list( set_w_hist.values() )\n",
    "    sample_desc.append( prep_IO.get_stats( vals ) )"
   ]
  },
  {
   "cell_type": "markdown",
   "metadata": {},
   "source": [
    "Singular summary cpi"
   ]
  },
  {
   "cell_type": "code",
   "execution_count": 7,
   "metadata": {},
   "outputs": [
    {
     "data": {
      "text/plain": [
       "3.732120006016983"
      ]
     },
     "execution_count": 7,
     "metadata": {},
     "output_type": "execute_result"
    }
   ],
   "source": [
    "sample_cpi"
   ]
  },
  {
   "cell_type": "markdown",
   "metadata": {},
   "source": [
    "Descriptives for running cpi"
   ]
  },
  {
   "cell_type": "code",
   "execution_count": 14,
   "metadata": {},
   "outputs": [
    {
     "name": "stdout",
     "output_type": "stream",
     "text": [
      "Count\t\t 4824\n",
      "Min\t\t 0.00027618910329295035\n",
      "Max\t\t 1850.8150319526453\n",
      "Quartiles\t [0.30462689 0.62182426 1.30318572]\n",
      "Std. Dev\t 42.719987416384605\n"
     ]
    }
   ],
   "source": [
    "print( 'Count\\t\\t', sample_desc[0]['Count'] )\n",
    "print( 'Min\\t\\t', sample_desc[0]['Min'] )\n",
    "print( 'Max\\t\\t', sample_desc[0]['Max'] )\n",
    "print( 'Quartiles\\t', sample_desc[0]['Quartiles'] )\n",
    "print( 'Std. Dev\\t', sample_desc[0]['Std. Dev'] )"
   ]
  },
  {
   "cell_type": "code",
   "execution_count": 24,
   "metadata": {},
   "outputs": [
    {
     "name": "stdout",
     "output_type": "stream",
     "text": [
      "(Min,Max)\t (0.00027618910329295035, 1850.8150319526453)\n",
      "Quartiles\t [0.30462689 0.62182426 1.30318572]\n",
      "\n",
      "(Min,Max)\t (5.476163488828116e-05, 168663.52385501322)\n",
      "Quartiles\t [0.39241037 0.9748327  2.43680156]\n",
      "\n",
      "(Min,Max)\t (0.0032160767080982103, 770.7420974112546)\n",
      "Quartiles\t [0.81590146 1.20745733 2.05823272]\n",
      "\n",
      "(Min,Max)\t (0.014840885245810235, 1460.3110434613432)\n",
      "Quartiles\t [0.19862857 0.78630792 1.6487845 ]\n",
      "\n",
      "(Min,Max)\t (0.0021321084128082986, 1353.365962614058)\n",
      "Quartiles\t [0.35222709 0.88287356 2.03271778]\n",
      "\n",
      "(Min,Max)\t (0.0019132465106834649, 6945.9672673921295)\n",
      "Quartiles\t [0.65562152 1.14343858 2.4894141 ]\n",
      "\n",
      "(Min,Max)\t (3.489582303966267e-05, 880.9415542615243)\n",
      "Quartiles\t [0.29712859 0.65754614 1.56858816]\n",
      "\n",
      "(Min,Max)\t (9.539971591335564e-05, 1554.59811518107)\n",
      "Quartiles\t [0.49360706 0.83021866 1.76103224]\n",
      "\n",
      "(Min,Max)\t (0.03780202976246834, 869.4766625365057)\n",
      "Quartiles\t [0.47580408 1.07036394 2.30135044]\n",
      "\n",
      "(Min,Max)\t (0.0009774597095644775, 785.8378885066818)\n",
      "Quartiles\t [0.57765333 0.84503952 1.8539358 ]\n",
      "\n",
      "(Min,Max)\t (0.0025458921479520297, 1474.6078025438565)\n",
      "Quartiles\t [0.6111733 1.1756656 2.2623377]\n",
      "\n",
      "(Min,Max)\t (0.001079257803581386, 124277.51697510116)\n",
      "Quartiles\t [0.51418492 0.97390942 2.11679923]\n",
      "\n"
     ]
    }
   ],
   "source": [
    "for i in range(len(sample_desc)):\n",
    "    print( '(Min,Max)\\t', (sample_desc[i]['Min'], sample_desc[i]['Max']) )\n",
    "    print( 'Quartiles\\t', sample_desc[i]['Quartiles'] )\n",
    "    print()"
   ]
  },
  {
   "cell_type": "code",
   "execution_count": null,
   "metadata": {},
   "outputs": [],
   "source": []
  }
 ],
 "metadata": {
  "kernelspec": {
   "display_name": "Python 3",
   "language": "python",
   "name": "python3"
  },
  "language_info": {
   "codemirror_mode": {
    "name": "ipython",
    "version": 3
   },
   "file_extension": ".py",
   "mimetype": "text/x-python",
   "name": "python",
   "nbconvert_exporter": "python",
   "pygments_lexer": "ipython3",
   "version": "3.6.8"
  }
 },
 "nbformat": 4,
 "nbformat_minor": 2
}
