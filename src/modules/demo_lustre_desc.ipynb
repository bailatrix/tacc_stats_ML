{
 "cells": [
  {
   "cell_type": "markdown",
   "metadata": {},
   "source": [
    "## Dependencies"
   ]
  },
  {
   "cell_type": "code",
   "execution_count": 1,
   "metadata": {},
   "outputs": [],
   "source": [
    "# Data Management\n",
    "import pickle\n",
    "#import datetime as dt"
   ]
  },
  {
   "cell_type": "code",
   "execution_count": 2,
   "metadata": {},
   "outputs": [],
   "source": [
    "# Data manipulation dependencies\n",
    "#import math\n",
    "import statistics\n",
    "#import scipy.stats\n",
    "#import scipy\n",
    "import numpy as np\n",
    "import pandas as pd\n",
    "import matplotlib.pyplot as plt\n",
    "import seaborn as sns"
   ]
  },
  {
   "cell_type": "code",
   "execution_count": 3,
   "metadata": {},
   "outputs": [],
   "source": [
    "# Custom data handling methods\n",
    "import prep_IO"
   ]
  },
  {
   "cell_type": "code",
   "execution_count": 4,
   "metadata": {},
   "outputs": [],
   "source": [
    "# Directory of pre-determined lustre failed jobs\n",
    "src = './lustre_set.pkl'"
   ]
  },
  {
   "cell_type": "code",
   "execution_count": 5,
   "metadata": {},
   "outputs": [],
   "source": [
    "search_raw = pickle.load( open( src, \"rb\" ) )\n",
    "search_set = [ item for item in search_raw if '2020-09' not in item[1] and '2020-10' not in item[1] ]"
   ]
  },
  {
   "cell_type": "markdown",
   "metadata": {},
   "source": [
    "#### Generate sample data"
   ]
  },
  {
   "cell_type": "code",
   "execution_count": 6,
   "metadata": {},
   "outputs": [],
   "source": [
    "sample_n = 2\n",
    "sample_info = prep_IO.search_sample_n( search_set, sample_n )\n",
    "sample_out = prep_IO.fill_host_info( search_info )"
   ]
  },
  {
   "cell_type": "code",
   "execution_count": 33,
   "metadata": {},
   "outputs": [],
   "source": [
    "sample_info = {'Sample': [('comet-12-13',\n",
    "   '2020-05-12T08:24:41',\n",
    "   '2020-05-13T10:00:45',\n",
    "   '33283684'),\n",
    "  ('comet-22-30', '2020-05-27T01:47:29', '2020-05-27T05:30:13', '33659176')],\n",
    " 'Raw': {('comet-12-13',\n",
    "   '2020-05-12T08:24:41',\n",
    "   '2020-05-13T10:00:45',\n",
    "   '33283684'): {'Source': ['/oasis/projects/nsf/sys200/stats/xsede_stats/archive/comet-12-13.sdsc.edu/1589290650.gz',\n",
    "    '/oasis/projects/nsf/sys200/stats/xsede_stats/archive/comet-12-13.sdsc.edu/1589377050.gz'],\n",
    "   'Single JobID': False},\n",
    "  ('comet-22-30',\n",
    "   '2020-05-27T01:47:29',\n",
    "   '2020-05-27T05:30:13',\n",
    "   '33659176'): {'Source': ['/oasis/projects/nsf/sys200/stats/xsede_stats/archive/comet-22-30.sdsc.edu/1590543742.gz'], 'Single JobID': False}},\n",
    " 'Out': {('comet-12-13',\n",
    "   '2020-05-12T08:24:41',\n",
    "   '2020-05-13T10:00:45',\n",
    "   '33283684'): {'Source': ['/oasis/projects/nsf/sys200/stats/xsede_stats/archive/comet-12-13.sdsc.edu/1589290650.gz',\n",
    "    '/oasis/projects/nsf/sys200/stats/xsede_stats/archive/comet-12-13.sdsc.edu/1589377050.gz'],\n",
    "   'Single JobID': False},\n",
    "  ('comet-22-30',\n",
    "   '2020-05-27T01:47:29',\n",
    "   '2020-05-27T05:30:13',\n",
    "   '33659176'): {'Source': ['/oasis/projects/nsf/sys200/stats/xsede_stats/archive/comet-22-30.sdsc.edu/1590543742.gz'], 'Single JobID': False}}}"
   ]
  },
  {
   "cell_type": "code",
   "execution_count": 34,
   "metadata": {},
   "outputs": [],
   "source": [
    "# setup friendly keys\n",
    "keys = list(sample_info[\"Out\"].keys())\n",
    "search_info = fill_acct_info( sample_info, keys )"
   ]
  },
  {
   "cell_type": "code",
   "execution_count": 30,
   "metadata": {},
   "outputs": [],
   "source": [
    "def buffer_try_acct_file( a_search_tup, anon=False ):\n",
    "    test_end_date = a_search_tup[2][:10]\n",
    "    test_jobid = a_search_tup[3]\n",
    "    test_ret = prep_IO.try_acct_file( test_end_date, test_jobid )\n",
    "    \n",
    "    try:\n",
    "        if (test_ret) and (not anon):\n",
    "            acct_rules = 'JobID|User|Account|Start|End|Submit|Partition|Timelimit|JobName|State|NNodes|ReqCPUS|NodeList\\n'.split('|')\n",
    "            acct_data = test_ret[0].split('|')\n",
    "            paired = { acct_rules[i] : acct_data[i] for i in range(len(acct_rules)) }\n",
    "        \n",
    "            return paired\n",
    "    \n",
    "    except:\n",
    "        return test_ret\n",
    "\n",
    "def fill_acct_info( partial_info, info_keys ):\n",
    "    filled = { item:{} for item in info_keys }\n",
    "    base = partial_info[\"Out\"]\n",
    "    \n",
    "    for item in info_keys:\n",
    "        filled[ item ] = buffer_try_acct_file( item )\n",
    "        \n",
    "    filled.update(base)\n",
    "    \n",
    "    return filled"
   ]
  },
  {
   "cell_type": "code",
   "execution_count": null,
   "metadata": {},
   "outputs": [],
   "source": [
    "filled_accts = "
   ]
  },
  {
   "cell_type": "markdown",
   "metadata": {},
   "source": [
    "## Data"
   ]
  },
  {
   "cell_type": "markdown",
   "metadata": {},
   "source": [
    "1. Size\n",
    "2. Missingness\n",
    "3. Shape\n",
    "4. Central Tendency\n",
    "5. Variability"
   ]
  },
  {
   "cell_type": "markdown",
   "metadata": {},
   "source": [
    "- first level keys: search labels\n",
    "- second level keys: ['Acct Info', 'Host Info', 'Source Files']\n",
    "- 'Host Info' keys: ['Timely Data', 'Schemas', 'Specs']\n"
   ]
  },
  {
   "cell_type": "code",
   "execution_count": null,
   "metadata": {},
   "outputs": [],
   "source": [
    "# Token search from file lines\n",
    "#lines = prep_IO.unzip_txt( check[\"Source\"][0] )\n",
    "#token = 'ps'\n",
    "#\n",
    "#for line in lines:\n",
    "#    if token in line:\n",
    "#        print(line)"
   ]
  },
  {
   "cell_type": "markdown",
   "metadata": {},
   "source": [
    "### Preview Sample"
   ]
  },
  {
   "cell_type": "code",
   "execution_count": null,
   "metadata": {},
   "outputs": [],
   "source": [
    "search_info[\"Sample\"]"
   ]
  },
  {
   "cell_type": "code",
   "execution_count": null,
   "metadata": {},
   "outputs": [],
   "source": [
    "len(search_set)"
   ]
  },
  {
   "cell_type": "code",
   "execution_count": null,
   "metadata": {},
   "outputs": [],
   "source": [
    "len(search_info[\"Out\"])"
   ]
  },
  {
   "cell_type": "markdown",
   "metadata": {},
   "source": [
    "#### Account info\n",
    "`JobID|User|Account|Start|End|Submit|Partition|Timelimit|JobName|State|NNodes|ReqCPUS|NodeList\\n`"
   ]
  },
  {
   "cell_type": "code",
   "execution_count": null,
   "metadata": {},
   "outputs": [],
   "source": [
    "acct_a"
   ]
  },
  {
   "cell_type": "code",
   "execution_count": null,
   "metadata": {},
   "outputs": [],
   "source": [
    "acct_b"
   ]
  },
  {
   "cell_type": "markdown",
   "metadata": {},
   "source": [
    "#### Check Source Data/Validity"
   ]
  },
  {
   "cell_type": "code",
   "execution_count": null,
   "metadata": {},
   "outputs": [],
   "source": [
    "## TODO:\n",
    "# Make zipper method to put together: search tup, source files links, and system return data\n",
    "# for tup,src_file_list in purged.items():\n",
    "#     for src_file in src_file_list:\n",
    "#          nicely = host_to_info_dict( src_file )\n",
    "#          if len(\"Jobid(s)\" > 1):\n",
    "#              t_id = tup[5]\n",
    "#              for line in \"Data\":\n",
    "#                  if line[5] == t_id:\n",
    "#                       saved.append(line)"
   ]
  },
  {
   "cell_type": "code",
   "execution_count": null,
   "metadata": {},
   "outputs": [],
   "source": [
    "rn = keys[1]\n",
    "check = purged[ rn ]\n",
    "tester = prep_IO.buffer_multi_hosts( check, rn[3] )"
   ]
  },
  {
   "cell_type": "code",
   "execution_count": null,
   "metadata": {},
   "outputs": [],
   "source": [
    "print( \"Target jobid:\\t\", rn[3] )"
   ]
  },
  {
   "cell_type": "code",
   "execution_count": null,
   "metadata": {},
   "outputs": [],
   "source": [
    "check"
   ]
  },
  {
   "cell_type": "code",
   "execution_count": null,
   "metadata": {},
   "outputs": [],
   "source": [
    "tester.keys()"
   ]
  },
  {
   "cell_type": "code",
   "execution_count": null,
   "metadata": {},
   "outputs": [],
   "source": [
    "tester[\"Jobid(s)\"]"
   ]
  },
  {
   "cell_type": "code",
   "execution_count": null,
   "metadata": {},
   "outputs": [],
   "source": [
    "tester[\"Specs\"]"
   ]
  },
  {
   "cell_type": "markdown",
   "metadata": {},
   "source": [
    "## Plot stuff"
   ]
  },
  {
   "cell_type": "markdown",
   "metadata": {},
   "source": [
    "plot templates"
   ]
  },
  {
   "cell_type": "code",
   "execution_count": null,
   "metadata": {},
   "outputs": [],
   "source": [
    "## Histogram\n",
    "##hist, bin_edges = np.histogram(x, bins=10)\n",
    "#fig, ax = plt.subplots()\n",
    "#ax.hist(x, bin_edges, cumulative=False)\n",
    "#ax.set_xlabel('x')\n",
    "#ax.set_ylabel('Frequency')\n",
    "#plt.show()\n",
    "#\n",
    "## Pie Chart\n",
    "## x, y, z = 128, 256, 1024\n",
    "#fig, ax = plt.subplots()\n",
    "#ax.pie((x, y, z), labels=('x', 'y', 'z'), autopct='%1.1f%%')\n",
    "#plt.show()\n",
    "#\n",
    "## Horizontal Bar Chart\n",
    "##x = np.arange(21)\n",
    "##y = np.random.randint(21, size=21)\n",
    "##err = np.random.randn(21)\n",
    "#fig, ax = plt.subplots())\n",
    "#ax.bar(x, y, yerr=err)\n",
    "#ax.set_xlabel('x')\n",
    "#ax.set_ylabel('y')\n",
    "#plt.show()\n",
    "#\n",
    "## Scatterplot w/ Line\n",
    "##x = np.arange(21)\n",
    "##y = 5 + 2 * x + 2 * np.random.randn(21)\n",
    "##slope, intercept, r, *__ = scipy.stats.linregress(x, y)\n",
    "##line = f'Regression line: y={intercept:.2f}+{slope:.2f}x, r={r:.2f}'\n",
    "#fig, ax = plt.subplots()\n",
    "#ax.plot(x, y, linewidth=0, marker='s', label='Data points')\n",
    "#ax.plot(x, intercept + slope * x, label=line)\n",
    "#ax.set_xlabel('x')\n",
    "#ax.set_ylabel('y')\n",
    "#ax.legend(facecolor='white')\n",
    "#plt.show()\n",
    "#\n",
    "## Seaborn heatmap w/ 2 var\n",
    "##Index= ['aaa', 'bbb', 'ccc', 'ddd', 'eee']\n",
    "##Cols = ['A', 'B', 'C', 'D']\n",
    "##data = abs(np.random.randn(5, 4))\n",
    "##df = DataFrame(data, index=Index, columns=Cols)\n",
    "#sns.heatmap(df, annot=True)"
   ]
  },
  {
   "cell_type": "code",
   "execution_count": null,
   "metadata": {},
   "outputs": [],
   "source": [
    "# SAVE template\n",
    "#save_thing = test_dict\n",
    "#f = open(\"save_thing_name.pkl\",\"wb\")\n",
    "#pickle.dump( save_thing,f )\n",
    "#f.close()\n",
    "\n",
    "# read in search_out from saved dict in src_file\n",
    "#save_thing = pickle.load( open( \"save_thing_name.pkl\", \"rb\" ) )\n",
    "#keys = list(save_thing.keys())\n",
    "#len(keys)"
   ]
  },
  {
   "cell_type": "markdown",
   "metadata": {},
   "source": [
    "# Analysis"
   ]
  },
  {
   "cell_type": "markdown",
   "metadata": {},
   "source": [
    "#### Setup Structures"
   ]
  },
  {
   "cell_type": "markdown",
   "metadata": {},
   "source": [
    "GOAL:\n",
    "Format data for a visualization with X-axis as time, y-axis as cat value, and each cat as a plotted line"
   ]
  },
  {
   "cell_type": "code",
   "execution_count": null,
   "metadata": {},
   "outputs": [],
   "source": [
    "# All valid 'Timely Data' occurences in dataset\n",
    "data_lists = [ sample_out[key]['Data'] for key in keys ]\n",
    "\n",
    "# friendlllyy data\n",
    "df_a = pd.DataFrame( data_lists[0] )\n",
    "df_b = pd.DataFrame( data_lists[1] )\n",
    "\n",
    "# timelines for each\n",
    "times_a = list( df_a[4].unique() )\n",
    "times_b = list( df_b[4].unique() )"
   ]
  },
  {
   "cell_type": "markdown",
   "metadata": {},
   "source": [
    "#### Identify Variable behavior"
   ]
  },
  {
   "cell_type": "code",
   "execution_count": null,
   "metadata": {},
   "outputs": [],
   "source": [
    "target = data_lists[0]"
   ]
  },
  {
   "cell_type": "code",
   "execution_count": null,
   "metadata": {},
   "outputs": [],
   "source": [
    "timedata_by_label = prep_IO.labeled_data( target )\n",
    "timedata_keys = list( timedata_by_label.keys() )"
   ]
  },
  {
   "cell_type": "code",
   "execution_count": null,
   "metadata": {},
   "outputs": [],
   "source": [
    "cat_counts = { key:len(value) for key,value in timedata_by_label.items() }\n",
    "base = statistics.mode( cat_counts.values() )\n",
    "\n",
    "std_cats = []\n",
    "irreg_cats = []\n",
    "\n",
    "for cat,count in cat_counts.items():\n",
    "    if count != base:\n",
    "        if cat not in irreg_cats:\n",
    "            irreg_cats.append( cat )\n",
    "    else:\n",
    "        if cat not in std_cats:\n",
    "            std_cats.append( cat )\n",
    "            \n",
    "    #print( f\"{cat} recorded {count} times.\" )"
   ]
  },
  {
   "cell_type": "markdown",
   "metadata": {},
   "source": [
    "### General Descriptive Statistics"
   ]
  },
  {
   "cell_type": "code",
   "execution_count": null,
   "metadata": {},
   "outputs": [],
   "source": [
    "descriptives = prep_IO.get_host_descriptives( timedata_by_label, timedata_keys )\n",
    "prep_IO.quick_save( descriptives, label='lustre_set_descriptives' )"
   ]
  },
  {
   "cell_type": "code",
   "execution_count": null,
   "metadata": {},
   "outputs": [],
   "source": [
    "static_cats = descriptives[\"Static\"]\n",
    "n_static = len(static_cats)\n",
    "print( f\"Static categories:\\t { n_static }\")\n",
    "print( f\"Unique categories:\\t {len(descriptives) - 1}\" )"
   ]
  },
  {
   "cell_type": "code",
   "execution_count": null,
   "metadata": {},
   "outputs": [],
   "source": [
    "dynamic = descriptives\n",
    "del dynamic[\"Static\"]"
   ]
  },
  {
   "cell_type": "markdown",
   "metadata": {},
   "source": [
    "# Manual cat inspection"
   ]
  },
  {
   "cell_type": "code",
   "execution_count": null,
   "metadata": {},
   "outputs": [],
   "source": [
    "dynamic"
   ]
  }
 ],
 "metadata": {
  "kernelspec": {
   "display_name": "Python 3",
   "language": "python",
   "name": "python3"
  },
  "language_info": {
   "codemirror_mode": {
    "name": "ipython",
    "version": 3
   },
   "file_extension": ".py",
   "mimetype": "text/x-python",
   "name": "python",
   "nbconvert_exporter": "python",
   "pygments_lexer": "ipython3",
   "version": "3.6.8"
  }
 },
 "nbformat": 4,
 "nbformat_minor": 2
}
