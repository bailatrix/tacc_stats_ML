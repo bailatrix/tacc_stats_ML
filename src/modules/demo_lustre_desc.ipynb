{
 "cells": [
  {
   "cell_type": "markdown",
   "metadata": {},
   "source": [
    "## Dependencies"
   ]
  },
  {
   "cell_type": "code",
   "execution_count": 1,
   "metadata": {},
   "outputs": [],
   "source": [
    "# Data Management\n",
    "import pickle\n",
    "#import datetime as dt"
   ]
  },
  {
   "cell_type": "code",
   "execution_count": 2,
   "metadata": {},
   "outputs": [],
   "source": [
    "# Data manipulation dependencies\n",
    "#import math\n",
    "import statistics\n",
    "#import scipy.stats\n",
    "#import scipy\n",
    "import numpy as np\n",
    "import pandas as pd\n",
    "import matplotlib.pyplot as plt\n",
    "import seaborn as sns"
   ]
  },
  {
   "cell_type": "code",
   "execution_count": 3,
   "metadata": {},
   "outputs": [],
   "source": [
    "# Custom data handling methods\n",
    "import prep_IO"
   ]
  },
  {
   "cell_type": "code",
   "execution_count": 4,
   "metadata": {},
   "outputs": [],
   "source": [
    "# Directory of pre-determined lustre failed jobs\n",
    "src = './lustre_set.pkl'"
   ]
  },
  {
   "cell_type": "code",
   "execution_count": 5,
   "metadata": {},
   "outputs": [],
   "source": [
    "search_raw = pickle.load( open( src, \"rb\" ) )\n",
    "search_set = [ item for item in search_raw if '2020-09' not in item[1] and '2020-10' not in item[1] ]"
   ]
  },
  {
   "cell_type": "markdown",
   "metadata": {},
   "source": [
    "#### Generate sample data"
   ]
  },
  {
   "cell_type": "code",
   "execution_count": 6,
   "metadata": {},
   "outputs": [],
   "source": [
    "sample_n = 2\n",
    "#sample_info = prep_IO.search_sample_n( search_set, sample_n )\n",
    "sample_info = {'Sample': [('comet-14-71',\n",
    "   '2020-05-27T01:47:29',\n",
    "   '2020-05-27T05:30:13',\n",
    "   '33659176'),\n",
    "  ('comet-12-13', '2020-05-12T08:24:41', '2020-05-13T10:00:45', '33283684')],\n",
    " 'Raw': {('comet-14-71',\n",
    "   '2020-05-27T01:47:29',\n",
    "   '2020-05-27T05:30:13',\n",
    "   '33659176'): {'Source': ['/oasis/projects/nsf/sys200/stats/xsede_stats/archive/comet-14-71.sdsc.edu/1590505171.gz'],\n",
    "   'Single JobID': False},\n",
    "  ('comet-12-13',\n",
    "   '2020-05-12T08:24:41',\n",
    "   '2020-05-13T10:00:45',\n",
    "   '33283684'): {'Source': ['/oasis/projects/nsf/sys200/stats/xsede_stats/archive/comet-12-13.sdsc.edu/1589290650.gz',\n",
    "    '/oasis/projects/nsf/sys200/stats/xsede_stats/archive/comet-12-13.sdsc.edu/1589377050.gz'], 'Single JobID': False}},\n",
    " 'Out': {('comet-14-71',\n",
    "   '2020-05-27T01:47:29',\n",
    "   '2020-05-27T05:30:13',\n",
    "   '33659176'): {'Source': ['/oasis/projects/nsf/sys200/stats/xsede_stats/archive/comet-14-71.sdsc.edu/1590505171.gz'],\n",
    "   'Single JobID': False},\n",
    "  ('comet-12-13',\n",
    "   '2020-05-12T08:24:41',\n",
    "   '2020-05-13T10:00:45',\n",
    "   '33283684'): {'Source': ['/oasis/projects/nsf/sys200/stats/xsede_stats/archive/comet-12-13.sdsc.edu/1589290650.gz',\n",
    "    '/oasis/projects/nsf/sys200/stats/xsede_stats/archive/comet-12-13.sdsc.edu/1589377050.gz'], 'Single JobID': False}}}"
   ]
  },
  {
   "cell_type": "code",
   "execution_count": 7,
   "metadata": {},
   "outputs": [],
   "source": [
    "# setup friendly keys and fill in search results\n",
    "keys = list(sample_info[\"Out\"].keys())\n",
    "sample_hosts = prep_IO.fill_host_info( sample_info )\n",
    "sample_accts = prep_IO.fill_acct_info( sample_info, keys )"
   ]
  },
  {
   "cell_type": "code",
   "execution_count": 8,
   "metadata": {},
   "outputs": [
    {
     "data": {
      "text/plain": [
       "{('comet-14-71',\n",
       "  '2020-05-27T01:47:29',\n",
       "  '2020-05-27T05:30:13',\n",
       "  '33659176'): {'JobID': '33659176', 'Start': '2020-05-27T01:47:29', 'End': '2020-05-27T05:30:13', 'Submit': '2020-05-26T18:22:46', 'Partition': 'compute', 'Timelimit': '2-00:00:00', 'State': 'FAILED', 'NNodes': '8', 'ReqCPUS': '64', 'NodeList\\n': 'comet-06-56,comet-07-14,comet-11-24,comet-14-71,comet-15-34,comet-20-[09,53],comet-22-30\\n', 'Source': ['/oasis/projects/nsf/sys200/stats/xsede_stats/archive/comet-14-71.sdsc.edu/1590505171.gz'], 'Single JobID': False},\n",
       " ('comet-12-13',\n",
       "  '2020-05-12T08:24:41',\n",
       "  '2020-05-13T10:00:45',\n",
       "  '33283684'): {'JobID': '33283684', 'Start': '2020-05-12T08:24:41', 'End': '2020-05-13T10:00:45', 'Submit': '2020-05-11T10:37:35', 'Partition': 'compute', 'Timelimit': '1-23:59:00', 'State': 'FAILED', 'NNodes': '4', 'ReqCPUS': '96', 'NodeList\\n': 'comet-12-[13,28,30,39]\\n', 'Source': ['/oasis/projects/nsf/sys200/stats/xsede_stats/archive/comet-12-13.sdsc.edu/1589290650.gz',\n",
       "   '/oasis/projects/nsf/sys200/stats/xsede_stats/archive/comet-12-13.sdsc.edu/1589377050.gz'], 'Single JobID': False}}"
      ]
     },
     "execution_count": 8,
     "metadata": {},
     "output_type": "execute_result"
    }
   ],
   "source": [
    "sample_accts"
   ]
  },
  {
   "cell_type": "markdown",
   "metadata": {},
   "source": [
    "## Data"
   ]
  },
  {
   "cell_type": "markdown",
   "metadata": {},
   "source": [
    "1. Size\n",
    "2. Missingness\n",
    "3. Shape\n",
    "4. Central Tendency\n",
    "5. Variability"
   ]
  },
  {
   "cell_type": "markdown",
   "metadata": {},
   "source": [
    "- first level keys: search labels\n",
    "- second level keys: ['Acct Info', 'Host Info', 'Source Files']\n",
    "- 'Host Info' keys: ['Timely Data', 'Schemas', 'Specs']\n"
   ]
  },
  {
   "cell_type": "code",
   "execution_count": 9,
   "metadata": {},
   "outputs": [],
   "source": [
    "# Token search from file lines\n",
    "#lines = prep_IO.unzip_txt( check[\"Source\"][0] )\n",
    "#token = 'ps'\n",
    "#\n",
    "#for line in lines:\n",
    "#    if token in line:\n",
    "#        print(line)"
   ]
  },
  {
   "cell_type": "markdown",
   "metadata": {},
   "source": [
    "### Preview Sample"
   ]
  },
  {
   "cell_type": "code",
   "execution_count": 10,
   "metadata": {},
   "outputs": [
    {
     "data": {
      "text/plain": [
       "[('comet-14-71', '2020-05-27T01:47:29', '2020-05-27T05:30:13', '33659176'),\n",
       " ('comet-12-13', '2020-05-12T08:24:41', '2020-05-13T10:00:45', '33283684')]"
      ]
     },
     "execution_count": 10,
     "metadata": {},
     "output_type": "execute_result"
    }
   ],
   "source": [
    "sample_info[\"Sample\"]"
   ]
  },
  {
   "cell_type": "code",
   "execution_count": 11,
   "metadata": {},
   "outputs": [
    {
     "data": {
      "text/plain": [
       "{'JobID': '33659176',\n",
       " 'Start': '2020-05-27T01:47:29',\n",
       " 'End': '2020-05-27T05:30:13',\n",
       " 'Submit': '2020-05-26T18:22:46',\n",
       " 'Partition': 'compute',\n",
       " 'Timelimit': '2-00:00:00',\n",
       " 'State': 'FAILED',\n",
       " 'NNodes': '8',\n",
       " 'ReqCPUS': '64',\n",
       " 'NodeList\\n': 'comet-06-56,comet-07-14,comet-11-24,comet-14-71,comet-15-34,comet-20-[09,53],comet-22-30\\n',\n",
       " 'Source': ['/oasis/projects/nsf/sys200/stats/xsede_stats/archive/comet-14-71.sdsc.edu/1590505171.gz'],\n",
       " 'Single JobID': False}"
      ]
     },
     "execution_count": 11,
     "metadata": {},
     "output_type": "execute_result"
    }
   ],
   "source": [
    "sample_tar = keys[0]\n",
    "sample_accts[ sample_tar ]"
   ]
  },
  {
   "cell_type": "code",
   "execution_count": 12,
   "metadata": {},
   "outputs": [
    {
     "data": {
      "text/plain": [
       "['tacc_stats 2.3.4',\n",
       " 'hostname comet-14-71.sdsc.edu',\n",
       " 'uname Linux x86_64 3.10.0-957.12.2.el7.x86_64 #1 SMP Tue May 14 21:24:32 UTC 2019',\n",
       " 'uptime 2937699']"
      ]
     },
     "execution_count": 12,
     "metadata": {},
     "output_type": "execute_result"
    }
   ],
   "source": [
    "sample_hosts[ sample_tar ][ \"Specs\" ]"
   ]
  },
  {
   "cell_type": "code",
   "execution_count": 13,
   "metadata": {},
   "outputs": [
    {
     "data": {
      "text/plain": [
       "['/oasis/projects/nsf/sys200/stats/xsede_stats/archive/comet-14-71.sdsc.edu/1590505171.gz']"
      ]
     },
     "execution_count": 13,
     "metadata": {},
     "output_type": "execute_result"
    }
   ],
   "source": [
    "sample_hosts[ sample_tar ][ \"Source\" ]"
   ]
  },
  {
   "cell_type": "code",
   "execution_count": 14,
   "metadata": {},
   "outputs": [
    {
     "data": {
      "text/plain": [
       "False"
      ]
     },
     "execution_count": 14,
     "metadata": {},
     "output_type": "execute_result"
    }
   ],
   "source": [
    "sample_hosts[ sample_tar ][ \"Single JobID\" ]"
   ]
  },
  {
   "cell_type": "markdown",
   "metadata": {},
   "source": [
    "## Plot stuff"
   ]
  },
  {
   "cell_type": "markdown",
   "metadata": {},
   "source": [
    "plot templates"
   ]
  },
  {
   "cell_type": "code",
   "execution_count": 15,
   "metadata": {},
   "outputs": [],
   "source": [
    "## Histogram\n",
    "##hist, bin_edges = np.histogram(x, bins=10)\n",
    "#fig, ax = plt.subplots()\n",
    "#ax.hist(x, bin_edges, cumulative=False)\n",
    "#ax.set_xlabel('x')\n",
    "#ax.set_ylabel('Frequency')\n",
    "#plt.show()\n",
    "#\n",
    "## Pie Chart\n",
    "## x, y, z = 128, 256, 1024\n",
    "#fig, ax = plt.subplots()\n",
    "#ax.pie((x, y, z), labels=('x', 'y', 'z'), autopct='%1.1f%%')\n",
    "#plt.show()\n",
    "#\n",
    "## Horizontal Bar Chart\n",
    "##x = np.arange(21)\n",
    "##y = np.random.randint(21, size=21)\n",
    "##err = np.random.randn(21)\n",
    "#fig, ax = plt.subplots())\n",
    "#ax.bar(x, y, yerr=err)\n",
    "#ax.set_xlabel('x')\n",
    "#ax.set_ylabel('y')\n",
    "#plt.show()\n",
    "#\n",
    "## Scatterplot w/ Line\n",
    "##x = np.arange(21)\n",
    "##y = 5 + 2 * x + 2 * np.random.randn(21)\n",
    "##slope, intercept, r, *__ = scipy.stats.linregress(x, y)\n",
    "##line = f'Regression line: y={intercept:.2f}+{slope:.2f}x, r={r:.2f}'\n",
    "#fig, ax = plt.subplots()\n",
    "#ax.plot(x, y, linewidth=0, marker='s', label='Data points')\n",
    "#ax.plot(x, intercept + slope * x, label=line)\n",
    "#ax.set_xlabel('x')\n",
    "#ax.set_ylabel('y')\n",
    "#ax.legend(facecolor='white')\n",
    "#plt.show()\n",
    "#\n",
    "## Seaborn heatmap w/ 2 var\n",
    "##Index= ['aaa', 'bbb', 'ccc', 'ddd', 'eee']\n",
    "##Cols = ['A', 'B', 'C', 'D']\n",
    "##data = abs(np.random.randn(5, 4))\n",
    "##df = DataFrame(data, index=Index, columns=Cols)\n",
    "#sns.heatmap(df, annot=True)"
   ]
  },
  {
   "cell_type": "code",
   "execution_count": 16,
   "metadata": {},
   "outputs": [],
   "source": [
    "# SAVE template\n",
    "#save_thing = test_dict\n",
    "#f = open(\"save_thing_name.pkl\",\"wb\")\n",
    "#pickle.dump( save_thing,f )\n",
    "#f.close()\n",
    "\n",
    "# read in search_out from saved dict in src_file\n",
    "#save_thing = pickle.load( open( \"save_thing_name.pkl\", \"rb\" ) )\n",
    "#keys = list(save_thing.keys())\n",
    "#len(keys)"
   ]
  },
  {
   "cell_type": "markdown",
   "metadata": {},
   "source": [
    "# Analysis"
   ]
  },
  {
   "cell_type": "markdown",
   "metadata": {},
   "source": [
    "#### Setup Structures"
   ]
  },
  {
   "cell_type": "markdown",
   "metadata": {},
   "source": [
    "GOAL:\n",
    "Format data for a visualization with X-axis as time, y-axis as cat value, and each cat as a plotted line"
   ]
  },
  {
   "cell_type": "code",
   "execution_count": 17,
   "metadata": {},
   "outputs": [],
   "source": [
    "# All valid 'Timely Data' occurences in dataset\n",
    "data_lists = [ sample_hosts[key]['Data'] for key in keys ]\n",
    "\n",
    "# friendlllyy data\n",
    "df_a = pd.DataFrame( data_lists[0] )\n",
    "df_b = pd.DataFrame( data_lists[1] )\n",
    "\n",
    "# timelines for each\n",
    "times_a = list( df_a[4].unique() )\n",
    "times_b = list( df_b[4].unique() )"
   ]
  },
  {
   "cell_type": "markdown",
   "metadata": {},
   "source": [
    "#### Identify Variable behavior"
   ]
  },
  {
   "cell_type": "code",
   "execution_count": 18,
   "metadata": {},
   "outputs": [],
   "source": [
    "target = data_lists[0]"
   ]
  },
  {
   "cell_type": "code",
   "execution_count": 19,
   "metadata": {},
   "outputs": [],
   "source": [
    "timedata_by_label = prep_IO.labeled_data( target )\n",
    "timedata_keys = list( timedata_by_label.keys() )"
   ]
  },
  {
   "cell_type": "code",
   "execution_count": 20,
   "metadata": {},
   "outputs": [],
   "source": [
    "cat_counts = { key:len(value) for key,value in timedata_by_label.items() }\n",
    "base = statistics.mode( cat_counts.values() )\n",
    "\n",
    "std_cats = []\n",
    "irreg_cats = []\n",
    "\n",
    "for cat,count in cat_counts.items():\n",
    "    if count != base:\n",
    "        if cat not in irreg_cats:\n",
    "            irreg_cats.append( cat )\n",
    "    else:\n",
    "        if cat not in std_cats:\n",
    "            std_cats.append( cat )\n",
    "            \n",
    "    #print( f\"{cat} recorded {count} times.\" )"
   ]
  },
  {
   "cell_type": "markdown",
   "metadata": {},
   "source": [
    "### General Descriptive Statistics"
   ]
  },
  {
   "cell_type": "markdown",
   "metadata": {},
   "source": [
    "Data manipulation:\n",
    "* If host recorded value at `t_0` and increased with each `t_i`, record base value and decrease each `t_i` by base value before performing descriptive operations\n",
    "    * Certain categories record values that do not necessarily reset between jobs.\n",
    "* If all `t_i` represent same value, move category to \"Static\" and do not include in descriptive operations\n",
    "* `std_cats` appear for each `t_i`\n",
    "* `irreg_cats` appear sporadically throughout run"
   ]
  },
  {
   "cell_type": "code",
   "execution_count": 21,
   "metadata": {},
   "outputs": [],
   "source": [
    "descriptives = prep_IO.get_host_descriptives( timedata_by_label, timedata_keys )\n",
    "std_desc = { key:value for key,value in descriptives.items() if key in std_cats }\n",
    "irr_desc = { key:value for key,value in descriptives.items() if key in irreg_cats }\n",
    "static_cats = descriptives[\"Static\"]\n",
    "n_static = len(static_cats)\n",
    "\n",
    "#prep_IO.quick_save( descriptives, label='lustre_set_descriptives' )"
   ]
  },
  {
   "cell_type": "code",
   "execution_count": 22,
   "metadata": {},
   "outputs": [
    {
     "name": "stdout",
     "output_type": "stream",
     "text": [
      "Static categories:\t 907\n",
      "Unique categories:\t 626\n",
      "\tStandard:\t 574\n",
      "\tIrregular:\t 52\n"
     ]
    }
   ],
   "source": [
    "print( f\"Static categories:\\t { n_static }\")\n",
    "print( f\"Unique categories:\\t {len(descriptives) - 1}\" )\n",
    "print( f\"\\tStandard:\\t { len(std_desc) }\")\n",
    "print( f\"\\tIrregular:\\t { len(irr_desc) }\")"
   ]
  },
  {
   "cell_type": "markdown",
   "metadata": {},
   "source": [
    "## Graphs"
   ]
  },
  {
   "cell_type": "code",
   "execution_count": 23,
   "metadata": {},
   "outputs": [],
   "source": [
    "std_keys = list(std_desc.keys())"
   ]
  },
  {
   "cell_type": "code",
   "execution_count": 24,
   "metadata": {},
   "outputs": [],
   "source": [
    "nice_times = [ prep_IO.get_time( t_i )[11:-3]+'A' for t_i in times_a ]\n",
    "ts = [ 't'+str(i) for i in range( len(nice_times) ) ]\n",
    "y_data = std_desc[ std_keys[1] ][\"Values\"]"
   ]
  },
  {
   "cell_type": "code",
   "execution_count": 25,
   "metadata": {},
   "outputs": [
    {
     "data": {
      "image/png": "[encoded data removed]",
      "text/plain": [
       "<Figure size 1080x792 with 1 Axes>"
      ]
     },
     "metadata": {
      "needs_background": "light"
     },
     "output_type": "display_data"
    }
   ],
   "source": [
    "# Setup top graph\n",
    "ax1 = plt.subplot2grid((2, 2), (0, 0), colspan=2)\n",
    "#ax1.plot(ts, y_data_a, marker='.', markersize=5.0, linewidth=2.0, color=\"black\", alpha=0.6)\n",
    "ax1.plot(ts, y_data, marker='', color='olive', linewidth=2)\n",
    "plt.grid( True )\n",
    "\n",
    "# Label graphs\n",
    "#      Top graph\n",
    "ax1.set_xticklabels( labels=nice_times, fontsize='small' )\n",
    "ax1.set_title( label=f\"Host Performance\", pad=20, fontdict={'fontweight': 'bold', 'fontsize': 15} )\n",
    "ax1.set_xlabel( \"Cycle\", labelpad=15, fontweight='bold', fontsize='x-large' )\n",
    "#ax1.set_ylabel( \"Performance\", labelpad=15, fontweight='bold', fontsize='x-large' )\n",
    "\n",
    "# Fill graph backgrounds\n",
    "ax1.set_facecolor( '0.99' )\n",
    "\n",
    "# Setup spacing of graphs\n",
    "plt.gcf().set_size_inches(15, 11)\n",
    "\n",
    "# Save figure as .png\n",
    "#plt.savefig( f\"./{std_cats_target}.png\", bbox='tight')"
   ]
  },
  {
   "cell_type": "code",
   "execution_count": 84,
   "metadata": {},
   "outputs": [],
   "source": [
    "temp_dict = { f'y{i}': std_desc[ std_keys[i] ][ \"Values\" ] for i in range(len(std_keys)) }\n",
    "ys = list(temp_dict.keys())\n",
    "\n",
    "part = ys[100:110]\n",
    "\n",
    "graph_df_full = pd.DataFrame( temp_dict )\n",
    "graph_df = graph_df_full[[ y for y in part ]]"
   ]
  },
  {
   "cell_type": "code",
   "execution_count": 86,
   "metadata": {},
   "outputs": [
    {
     "data": {
      "image/png": "[encoded data removed]",
      "text/plain": [
       "<Figure size 1080x792 with 1 Axes>"
      ]
     },
     "metadata": {},
     "output_type": "display_data"
    }
   ],
   "source": [
    "# style\n",
    "plt.style.use('seaborn-darkgrid')\n",
    " \n",
    "# create a color palette\n",
    "palette = plt.get_cmap('Set1')\n",
    " \n",
    "# multiple line plot\n",
    "num = 0\n",
    "for column in graph_df:\n",
    "    num += 1\n",
    "    plt.plot( ts, graph_df[ column ],\n",
    "              marker='', color=palette( num ), linewidth=3, alpha=0.6,\n",
    "              label=column\n",
    "            )\n",
    " \n",
    "#\n",
    "plt.legend(loc='upper right', ncol=2)\n",
    " \n",
    "# Add titles\n",
    "plt.title(label=f\"Host Performance\", pad=20, fontdict={'fontweight': 'bold', 'fontsize': 15})\n",
    "plt.xlabel(\"Cycle\", labelpad=15, fontweight='bold', fontsize='x-large')\n",
    "plt.ylabel(\"Reported\")\n",
    "\n",
    "# Fill graph backgrounds\n",
    "ax1.set_facecolor( '0.99' )\n",
    "\n",
    "# Setup spacing of graphs\n",
    "plt.gcf().set_size_inches(15, 11)"
   ]
  },
  {
   "cell_type": "code",
   "execution_count": 87,
   "metadata": {},
   "outputs": [],
   "source": [
    "focal = ['y3','y10', 'y25', 'y29', 'y31', 'y33', 'y37',\n",
    "         'y43', 'y48', 'y53', 'y57', 'y62', 'y75', 'y84',\n",
    "         'y88', 'y92','y96', 'y104','', '','', '',\n",
    "         '', '','', '','', '',]"
   ]
  },
  {
   "cell_type": "code",
   "execution_count": null,
   "metadata": {},
   "outputs": [],
   "source": []
  }
 ],
 "metadata": {
  "kernelspec": {
   "display_name": "Python 3",
   "language": "python",
   "name": "python3"
  },
  "language_info": {
   "codemirror_mode": {
    "name": "ipython",
    "version": 3
   },
   "file_extension": ".py",
   "mimetype": "text/x-python",
   "name": "python",
   "nbconvert_exporter": "python",
   "pygments_lexer": "ipython3",
   "version": "3.6.8"
  }
 },
 "nbformat": 4,
 "nbformat_minor": 2
}
