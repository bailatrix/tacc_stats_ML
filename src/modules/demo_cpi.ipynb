{
 "cells": [
  {
   "cell_type": "markdown",
   "metadata": {},
   "source": [
    "## Dependencies"
   ]
  },
  {
   "cell_type": "code",
   "execution_count": 1,
   "metadata": {},
   "outputs": [],
   "source": [
    "# Custom data handling methods\n",
    "import prep_IO"
   ]
  },
  {
   "cell_type": "code",
   "execution_count": 2,
   "metadata": {},
   "outputs": [],
   "source": [
    "conv = prep_IO.acct_info_locs[0][:-14]\n",
    "hosts_dict = prep_IO.sorted_arc_data"
   ]
  },
  {
   "cell_type": "markdown",
   "metadata": {},
   "source": [
    "# Setup\n",
    "- __FIXED_CTR_CTRL__ Counter Control Register\n",
    "- __FIXED_CTR0__ Instructions Retired\n",
    "- __FIXED_CTR1__ Core Clock Cycles\n",
    "- __FIXED_CTR2__ Reference Clock Cycles"
   ]
  },
  {
   "cell_type": "code",
   "execution_count": 3,
   "metadata": {},
   "outputs": [],
   "source": [
    "recent, stop = '2020-04-17', '2020-04-10'\n",
    "sample_n = 1\n",
    "\n",
    "sample_date = conv + recent + '.txt'\n",
    "sample_stop = conv + stop + '.txt'"
   ]
  },
  {
   "cell_type": "code",
   "execution_count": 4,
   "metadata": {},
   "outputs": [],
   "source": [
    "def find_recent_hosts( d0, dn, hosts_dict ):\n",
    "    e = d0 + 'T00:00:00'\n",
    "    s = dn + 'T23:59:59'\n",
    "    out_dict = {}\n",
    "    \n",
    "    for host,host_list in hosts_dict.items():\n",
    "        \n",
    "        for host_file in host_list:\n",
    "            t = prep_IO.get_time( host_file[-13:-3] )\n",
    "             \n",
    "            if t[:7] == s[:7]:\n",
    "                \n",
    "                if host in out_dict:\n",
    "                    out_dict[host].append( host_file )\n",
    "                    \n",
    "                else:\n",
    "                    out_dict[ host ] = [ host_file ]\n",
    "                    \n",
    "    return out_dict\n",
    "\n",
    "def find_fixed( host_file ):    \n",
    "    lines = prep_IO.unzip_txt( host_file )\n",
    "    return [ line for line in lines if 'FIXED_CTR' in line ]\n",
    "\n",
    "def find_fixed_set( host_dict, lim=0 ):\n",
    "    out_dict = { host_name:[] for host_name in host_dict.keys() }\n",
    "    \n",
    "    for host_name, file_list in host_dict.items():\n",
    "        \n",
    "        if lim > 0:\n",
    "            for host_file in file_list:\n",
    "                out_dict[ host_name ] += find_fixed( host_file )\n",
    "        else:\n",
    "            cut = file_list[ : lim ]\n",
    "            for host_file in cut:\n",
    "                out_dict[ host_name ] += find_fixed( host_file )\n",
    "                \n",
    "    return out_dict"
   ]
  },
  {
   "cell_type": "code",
   "execution_count": 5,
   "metadata": {},
   "outputs": [],
   "source": [
    "def cpi_calc( chunk ):\n",
    "    core = chunk.find('CTR1')\n",
    "    inst = chunk.find('CTR0')\n",
    "    base = 24\n",
    "    \n",
    "    return core / inst / base\n",
    "\n",
    "def fill_cpi( data_dict ):\n",
    "    return { key: cpi_calc( value ) for key,value in data_dict.items() }\n",
    "\n",
    "def cpicore_dict ( ):\n",
    "    return {}"
   ]
  },
  {
   "cell_type": "markdown",
   "metadata": {},
   "source": [
    "## A. cpi variance within calendar day\n",
    "- 1 set equal weights\n",
    "- 1 set consider length of job"
   ]
  },
  {
   "cell_type": "code",
   "execution_count": 7,
   "metadata": {},
   "outputs": [],
   "source": [
    "# collect all unique (host, s, e, jobid) from date.txt acct file\n",
    "search_set_A = prep_IO.acct_file_to_searchset( full_txt=sample_date )\n",
    "\n",
    "# select date, default='yesterday'\n",
    "# opt: collect the most recent n days from selected date\n",
    "sample_info_A = prep_IO.search_sample_n( search_set_A, sample_n )\n",
    "\n",
    "# collect each host_file from search set\n",
    "sample_hosts_A = { key: sample_info_A['Out']['Source'][i]\n",
    "                     for i in range(len( sample_info_A['Out']['Source'] ))\n",
    "                     for key in sample_info_A['Out'].keys()     }\n",
    "\n",
    "# collect core/inst lines from each file\n",
    "sample_data_A = find_fixed_set( sample_hosts_A, lim=sample_n )\n",
    "\n",
    "# compute cpi for each () using core/inst lines\n",
    "sample_cpi_A = fill_cpi( sample_data_A )"
   ]
  },
  {
   "cell_type": "markdown",
   "metadata": {},
   "source": [
    "## B. cpi variance between hosts\n",
    "- 1 set equal weights\n",
    "- 1 set consider number of jobids tasked"
   ]
  },
  {
   "cell_type": "code",
   "execution_count": 6,
   "metadata": {},
   "outputs": [],
   "source": [
    "# select date, default='yesterday'\n",
    "# opt: collect the most recent n days from selected date\n",
    "sample_hosts_B = find_recent_hosts( recent, stop, hosts_dict )\n",
    "\n",
    "# collect core/inst lines from each host file labeled with range of n days\n",
    "sample_data_B = find_fixed_set( sample_hosts_B, lim=sample_n )\n",
    "\n",
    "# compute cpi for each host using core/inst lines\n",
    "sample_cpi_B = fill_cpi( sample_data_B )"
   ]
  },
  {
   "cell_type": "code",
   "execution_count": null,
   "metadata": {},
   "outputs": [],
   "source": []
  }
 ],
 "metadata": {
  "kernelspec": {
   "display_name": "Python 3",
   "language": "python",
   "name": "python3"
  },
  "language_info": {
   "codemirror_mode": {
    "name": "ipython",
    "version": 3
   },
   "file_extension": ".py",
   "mimetype": "text/x-python",
   "name": "python",
   "nbconvert_exporter": "python",
   "pygments_lexer": "ipython3",
   "version": "3.6.8"
  }
 },
 "nbformat": 4,
 "nbformat_minor": 2
}
