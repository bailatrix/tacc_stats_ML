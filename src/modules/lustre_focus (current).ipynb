{
 "cells": [
  {
   "cell_type": "markdown",
   "metadata": {},
   "source": [
    "# Performance Data Lookup"
   ]
  },
  {
   "cell_type": "code",
   "execution_count": 1,
   "metadata": {},
   "outputs": [],
   "source": [
    "# System dependencies\n",
    "from os import listdir\n",
    "import time as clock\n",
    "from datetime import timedelta\n",
    "from IPython.display import clear_output"
   ]
  },
  {
   "cell_type": "code",
   "execution_count": 2,
   "metadata": {},
   "outputs": [],
   "source": [
    "# Data manipulation dependencies\n",
    "import pandas as pd\n",
    "import numpy as np\n",
    "import datetime as dt"
   ]
  },
  {
   "cell_type": "code",
   "execution_count": 3,
   "metadata": {},
   "outputs": [],
   "source": [
    "# Custom data handling methods\n",
    "import prep_IO"
   ]
  },
  {
   "cell_type": "code",
   "execution_count": 4,
   "metadata": {},
   "outputs": [],
   "source": [
    "# Directory to save to\n",
    "save_dir = '../data/continued/'\n",
    "\n",
    "# Directory of prev job scans\n",
    "id_dir = '../data/labels/IDs/'"
   ]
  },
  {
   "cell_type": "code",
   "execution_count": 5,
   "metadata": {},
   "outputs": [],
   "source": [
    "# Directory of recent saved comet jobs\n",
    "source_dir = '/oasis/projects/nsf/sys200/stats/xsede_stats/'"
   ]
  },
  {
   "cell_type": "code",
   "execution_count": 6,
   "metadata": {
    "scrolled": true
   },
   "outputs": [
    {
     "data": {
      "text/plain": [
       "['archive_of_archive',\n",
       " 'gordon_hostfile_logs',\n",
       " 'gordon_pickles',\n",
       " 'comet_accounting',\n",
       " 'gordon_accounting',\n",
       " 'comet_pickles',\n",
       " 'archive',\n",
       " '.htaccess',\n",
       " 'comet_hostfile_logs']"
      ]
     },
     "execution_count": 6,
     "metadata": {},
     "output_type": "execute_result"
    }
   ],
   "source": [
    "contents = listdir(source_dir)\n",
    "contents"
   ]
  },
  {
   "cell_type": "code",
   "execution_count": 7,
   "metadata": {},
   "outputs": [
    {
     "name": "stdout",
     "output_type": "stream",
     "text": [
      "/oasis/projects/nsf/sys200/stats/xsede_stats/gordon_hostfile_logs\n",
      "/oasis/projects/nsf/sys200/stats/xsede_stats/gordon_pickles\n",
      "/oasis/projects/nsf/sys200/stats/xsede_stats/gordon_accounting\n",
      "/oasis/projects/nsf/sys200/stats/xsede_stats/comet_pickles\n",
      "/oasis/projects/nsf/sys200/stats/xsede_stats/.htaccess\n",
      "/oasis/projects/nsf/sys200/stats/xsede_stats/comet_hostfile_logs\n"
     ]
    }
   ],
   "source": [
    "possible = [ source_dir+file_name for file_name in listdir(source_dir) ]\n",
    "\n",
    "for item in possible:\n",
    "    try:\n",
    "        listdir(item)\n",
    "    except:\n",
    "        print(item)"
   ]
  },
  {
   "cell_type": "code",
   "execution_count": 8,
   "metadata": {},
   "outputs": [],
   "source": [
    "locs = { 'aofa': source_dir+'archive_of_archive',\n",
    "         'job_info': source_dir+'comet_accounting',\n",
    "         'arc': source_dir+'archive'\n",
    "         #'host_info': source_dir+'comet_hostfile_logs',\n",
    "         #'old_pickles': source_dir+'comet_pickles'\n",
    "       }"
   ]
  },
  {
   "cell_type": "code",
   "execution_count": 9,
   "metadata": {},
   "outputs": [
    {
     "name": "stdout",
     "output_type": "stream",
     "text": [
      "/oasis/projects/nsf/sys200/stats/xsede_stats/archive_of_archive\n",
      "/oasis/projects/nsf/sys200/stats/xsede_stats/comet_accounting\n",
      "/oasis/projects/nsf/sys200/stats/xsede_stats/archive\n"
     ]
    }
   ],
   "source": [
    "for key,loc in locs.items():\n",
    "    print(loc)"
   ]
  },
  {
   "cell_type": "code",
   "execution_count": 10,
   "metadata": {},
   "outputs": [],
   "source": [
    "arc_data = [ locs['arc']+'/'+host_dir+'/'+stamp \n",
    "            for host_dir in listdir(locs['arc'])\n",
    "            for stamp in listdir(locs['arc']+'/'+host_dir)  ]\n",
    "\n",
    "aofa_data = [ locs['aofa']+'/'+host_dir+'/'+stamp \n",
    "            for host_dir in listdir(locs['aofa'])\n",
    "            for stamp in listdir(locs['aofa']+'/'+host_dir)  ]"
   ]
  },
  {
   "cell_type": "code",
   "execution_count": 11,
   "metadata": {},
   "outputs": [
    {
     "data": {
      "text/plain": [
       "'/oasis/projects/nsf/sys200/stats/xsede_stats/archive/comet-10-14.sdsc.edu/1587951665.gz'"
      ]
     },
     "execution_count": 11,
     "metadata": {},
     "output_type": "execute_result"
    }
   ],
   "source": [
    "# preview\n",
    "arc_data[0]"
   ]
  },
  {
   "cell_type": "code",
   "execution_count": 12,
   "metadata": {},
   "outputs": [],
   "source": [
    "acct_info_locs = [ locs['job_info']+'/'+stamp for stamp in listdir(locs['job_info']) ]\n",
    "dates = [ loc[-14:-4] for loc in acct_info_locs ]"
   ]
  },
  {
   "cell_type": "code",
   "execution_count": 13,
   "metadata": {},
   "outputs": [
    {
     "data": {
      "text/plain": [
       "'/oasis/projects/nsf/sys200/stats/xsede_stats/comet_accounting/2019-09-19.txt'"
      ]
     },
     "execution_count": 13,
     "metadata": {},
     "output_type": "execute_result"
    }
   ],
   "source": [
    "# preview\n",
    "acct_info_locs[0]"
   ]
  },
  {
   "cell_type": "code",
   "execution_count": 14,
   "metadata": {},
   "outputs": [
    {
     "data": {
      "text/plain": [
       "299014"
      ]
     },
     "execution_count": 14,
     "metadata": {},
     "output_type": "execute_result"
    }
   ],
   "source": [
    "len(arc_data)"
   ]
  },
  {
   "cell_type": "code",
   "execution_count": 15,
   "metadata": {},
   "outputs": [
    {
     "data": {
      "text/plain": [
       "1809956"
      ]
     },
     "execution_count": 15,
     "metadata": {},
     "output_type": "execute_result"
    }
   ],
   "source": [
    "len(aofa_data)"
   ]
  },
  {
   "cell_type": "code",
   "execution_count": 16,
   "metadata": {},
   "outputs": [
    {
     "data": {
      "text/plain": [
       "1196"
      ]
     },
     "execution_count": 16,
     "metadata": {},
     "output_type": "execute_result"
    }
   ],
   "source": [
    "len(acct_info_locs)"
   ]
  },
  {
   "cell_type": "markdown",
   "metadata": {},
   "source": [
    "### Opt: System Data"
   ]
  },
  {
   "cell_type": "code",
   "execution_count": 17,
   "metadata": {},
   "outputs": [],
   "source": [
    "### Process available system data ###\n",
    "#arc_hosts = [ host_to_info_dict( host_file ) for host_file in arc_data ]\n",
    "#aofa_hosts = [ host_to_info_dict( host_file ) for host_file in aofa_data ]\n",
    "#acct_dates = job_to_info_dict( acct_info_locs )"
   ]
  },
  {
   "cell_type": "markdown",
   "metadata": {},
   "source": [
    "# Target(s)"
   ]
  },
  {
   "cell_type": "code",
   "execution_count": 18,
   "metadata": {},
   "outputs": [],
   "source": [
    "### Process user compiled list of target samples ###\n",
    "chosen = [('comet-14-72,comet-19-19,comet-28-55', '2020-05-13T02:11:38', '2020-05-13T05:07:34', '33301074'),\n",
    "         ('comet-30-10', '2020-05-13T10:50:08', '2020-05-13T10:50:12', '33321014'),\n",
    "          ('comet-06-46,comet-12-52,comet-22-[39,64]', '2020-05-12T06:40:43', '2020-05-13T14:27:44', '33283100'),\n",
    "          ('comet-21-07', '2020-05-27T08:49:26', '2020-05-28T01:27:49', '33637231'),\n",
    "          ('comet-22-48', '2020-05-27T09:32:35', '2020-05-28T00:25:06', '33637422'),\n",
    "         ]"
   ]
  },
  {
   "cell_type": "code",
   "execution_count": 26,
   "metadata": {},
   "outputs": [
    {
     "data": {
      "text/plain": [
       "['33301074', '33321014', '33283100', '33637231', '33637422']"
      ]
     },
     "execution_count": 26,
     "metadata": {},
     "output_type": "execute_result"
    }
   ],
   "source": [
    "chosen_ids = [ x[3] for x in chosen ]\n",
    "chosen_ids"
   ]
  },
  {
   "cell_type": "code",
   "execution_count": 19,
   "metadata": {},
   "outputs": [
    {
     "data": {
      "text/plain": [
       "{'Found': ['/oasis/projects/nsf/sys200/stats/xsede_stats/comet_accounting/2020-05-13.txt',\n",
       "  '/oasis/projects/nsf/sys200/stats/xsede_stats/comet_accounting/2020-05-12.txt'],\n",
       " 'Not Found': [('comet-14-72', 1589361098, 1589371654, '33301074'),\n",
       "  ('comet-19-19', 1589361098, 1589371654, '33301074'),\n",
       "  ('comet-28-55', 1589361098, 1589371654, '33301074'),\n",
       "  ('comet-06-46', 1589290843, 1589405264, '33283100'),\n",
       "  ('comet-12-52', 1589290843, 1589405264, '33283100'),\n",
       "  ('comet-22-39', 1589290843, 1589405264, '33283100'),\n",
       "  ('comet-22-64', 1589290843, 1589405264, '33283100')],\n",
       " 'Unable to Search': [('comet-30-10',\n",
       "   '2020-05-13T10:50:08',\n",
       "   '2020-05-13T10:50:12',\n",
       "   '33321014'),\n",
       "  ('comet-21-07', '2020-05-27T08:49:26', '2020-05-28T01:27:49', '33637231'),\n",
       "  ('comet-22-48', '2020-05-27T09:32:35', '2020-05-28T00:25:06', '33637422')]}"
      ]
     },
     "execution_count": 19,
     "metadata": {},
     "output_type": "execute_result"
    }
   ],
   "source": [
    "out = prep_IO.search(mode='l',from_list=chosen)\n",
    "out"
   ]
  },
  {
   "cell_type": "markdown",
   "metadata": {},
   "source": [
    "# Accessing Info"
   ]
  },
  {
   "cell_type": "code",
   "execution_count": 27,
   "metadata": {},
   "outputs": [
    {
     "name": "stdout",
     "output_type": "stream",
     "text": [
      "33301074|haqi|uic304|2020-05-13T02:11:38|2020-05-13T05:07:34|2020-05-12T02:50:25|compute|1-00:00:00|eq-5MN6-01_sim2|FAILED|3|6|comet-14-72,comet-19-19,comet-28-55\n",
      "\n",
      "33321014|pschoenh|mia152|2020-05-13T10:50:08|2020-05-13T10:50:12|2020-05-13T10:21:04|gpu-shared|1-00:00:00|Gyroid_unitc/fa98bb55/all/0000/a542ce7d51e6cf29b8f0115a3b9882c8|FAILED|1|6|comet-30-10\n",
      "\n",
      "33283100|nyporko|jsu101|2020-05-12T06:40:43|2020-05-13T14:27:44|2020-05-11T10:12:17|compute|1-23:59:00|umbrella5|FAILED|4|96|comet-06-46,comet-12-52,comet-22-[39,64]\n",
      "\n"
     ]
    }
   ],
   "source": [
    "for f in out[\"Found\"]:\n",
    "    possible = prep_IO.open_txt( f )\n",
    "    \n",
    "    for jobid in chosen_ids:\n",
    "        for chunk in possible:\n",
    "            if jobid in chunk:\n",
    "                print(chunk)"
   ]
  }
 ],
 "metadata": {
  "kernelspec": {
   "display_name": "Python 3",
   "language": "python",
   "name": "python3"
  },
  "language_info": {
   "codemirror_mode": {
    "name": "ipython",
    "version": 3
   },
   "file_extension": ".py",
   "mimetype": "text/x-python",
   "name": "python",
   "nbconvert_exporter": "python",
   "pygments_lexer": "ipython3",
   "version": "3.6.8"
  }
 },
 "nbformat": 4,
 "nbformat_minor": 2
}
