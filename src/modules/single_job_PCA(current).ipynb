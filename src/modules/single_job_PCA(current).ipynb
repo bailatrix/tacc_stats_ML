{
 "cells": [
  {
   "cell_type": "markdown",
   "metadata": {},
   "source": [
    "# Performance Data Lookup"
   ]
  },
  {
   "cell_type": "code",
   "execution_count": 1,
   "metadata": {},
   "outputs": [],
   "source": [
    "# System dependencies\n",
    "from os import listdir\n",
    "import time as clock\n",
    "from IPython.display import clear_output"
   ]
  },
  {
   "cell_type": "code",
   "execution_count": 2,
   "metadata": {},
   "outputs": [],
   "source": [
    "import pickle\n",
    "import gzip\n",
    "import re"
   ]
  },
  {
   "cell_type": "code",
   "execution_count": 3,
   "metadata": {},
   "outputs": [],
   "source": [
    "# Data manipulation dependencies\n",
    "import pandas as pd\n",
    "import numpy as np\n",
    "import datetime as dt"
   ]
  },
  {
   "cell_type": "code",
   "execution_count": 4,
   "metadata": {},
   "outputs": [],
   "source": [
    "# Directory to save to\n",
    "save_dir = '../data/continued/'\n",
    "\n",
    "# Directory of prev job scans\n",
    "id_dir = '../data/labels/IDs/'"
   ]
  },
  {
   "cell_type": "code",
   "execution_count": 5,
   "metadata": {},
   "outputs": [],
   "source": [
    "# Directory of recent saved comet jobs\n",
    "source_dir = '/oasis/projects/nsf/sys200/stats/xsede_stats/'"
   ]
  },
  {
   "cell_type": "code",
   "execution_count": 6,
   "metadata": {
    "scrolled": true
   },
   "outputs": [
    {
     "data": {
      "text/plain": [
       "['archive_of_archive',\n",
       " 'gordon_hostfile_logs',\n",
       " 'gordon_pickles',\n",
       " 'comet_accounting',\n",
       " 'gordon_accounting',\n",
       " 'comet_pickles',\n",
       " 'archive',\n",
       " '.htaccess',\n",
       " 'comet_hostfile_logs']"
      ]
     },
     "execution_count": 6,
     "metadata": {},
     "output_type": "execute_result"
    }
   ],
   "source": [
    "contents = listdir(source_dir)\n",
    "contents"
   ]
  },
  {
   "cell_type": "code",
   "execution_count": 7,
   "metadata": {},
   "outputs": [
    {
     "name": "stdout",
     "output_type": "stream",
     "text": [
      "/oasis/projects/nsf/sys200/stats/xsede_stats/gordon_hostfile_logs\n",
      "/oasis/projects/nsf/sys200/stats/xsede_stats/gordon_pickles\n",
      "/oasis/projects/nsf/sys200/stats/xsede_stats/gordon_accounting\n",
      "/oasis/projects/nsf/sys200/stats/xsede_stats/comet_pickles\n",
      "/oasis/projects/nsf/sys200/stats/xsede_stats/.htaccess\n",
      "/oasis/projects/nsf/sys200/stats/xsede_stats/comet_hostfile_logs\n"
     ]
    }
   ],
   "source": [
    "possible = [ source_dir+file_name for file_name in listdir(source_dir) ]\n",
    "\n",
    "for item in possible:\n",
    "    try:\n",
    "        listdir(item)\n",
    "    except:\n",
    "        print(item)"
   ]
  },
  {
   "cell_type": "code",
   "execution_count": 8,
   "metadata": {},
   "outputs": [],
   "source": [
    "locs = { 'aofa': source_dir+'archive_of_archive',\n",
    "         'job_info': source_dir+'comet_accounting',\n",
    "         'arc': source_dir+'archive'\n",
    "         #'host_info': source_dir+'comet_hostfile_logs',\n",
    "         #'old_pickles': source_dir+'comet_pickles'\n",
    "       }"
   ]
  },
  {
   "cell_type": "code",
   "execution_count": 9,
   "metadata": {},
   "outputs": [
    {
     "name": "stdout",
     "output_type": "stream",
     "text": [
      "/oasis/projects/nsf/sys200/stats/xsede_stats/archive_of_archive\n",
      "/oasis/projects/nsf/sys200/stats/xsede_stats/comet_accounting\n",
      "/oasis/projects/nsf/sys200/stats/xsede_stats/archive\n"
     ]
    }
   ],
   "source": [
    "for key,loc in locs.items():\n",
    "    print(loc)"
   ]
  },
  {
   "cell_type": "markdown",
   "metadata": {},
   "source": [
    "## Target Job"
   ]
  },
  {
   "cell_type": "code",
   "execution_count": 10,
   "metadata": {},
   "outputs": [],
   "source": [
    "chosen = ('34583358', 'comet-15-11', '2020-07-08T18:25:03', '2020-07-10T18:25:19')"
   ]
  },
  {
   "cell_type": "markdown",
   "metadata": {},
   "source": [
    "## Prep Cleaning"
   ]
  },
  {
   "cell_type": "code",
   "execution_count": 11,
   "metadata": {},
   "outputs": [],
   "source": [
    "def get_time( spec=None ):\n",
    "    if type(spec) is str:\n",
    "        spec = float( spec )\n",
    "    \n",
    "    return clock.strftime(\"%Y-%m-%dT%H:%M:%S\", clock.localtime( spec ))"
   ]
  },
  {
   "cell_type": "code",
   "execution_count": 12,
   "metadata": {},
   "outputs": [],
   "source": [
    "def get_stamp( spec ):\n",
    "    sf = \"%Y-%m-%dT%H:%M:%S\"\n",
    "    return int(clock.mktime( clock.strptime( spec, sf ) ))"
   ]
  },
  {
   "cell_type": "code",
   "execution_count": 13,
   "metadata": {},
   "outputs": [],
   "source": [
    "def check_static( alist ):\n",
    "    return alist[1:] == alist[:-1]"
   ]
  },
  {
   "cell_type": "code",
   "execution_count": 14,
   "metadata": {},
   "outputs": [],
   "source": [
    "def check_header( line ):\n",
    "    if line.find(\" \") < 0:\n",
    "        try:\n",
    "            return line[0] == '%'\n",
    "        except:\n",
    "            return False\n",
    "        \n",
    "    else:\n",
    "        chunks = line.split(\" \")\n",
    "        try:\n",
    "            return (chunks[0][0] == '%') or ( chunks[2].find(\"comet\") >= 0 )\n",
    "        except:\n",
    "            return False"
   ]
  },
  {
   "cell_type": "code",
   "execution_count": 15,
   "metadata": {},
   "outputs": [],
   "source": [
    "def check_job( chunk ):\n",
    "    return chunk.find(\"-\") == -1"
   ]
  },
  {
   "cell_type": "code",
   "execution_count": 16,
   "metadata": {},
   "outputs": [],
   "source": [
    "def open_txt( txt_file ):\n",
    "    \n",
    "    with open( txt_file, \"rt\" ) as f:\n",
    "        lines = f.readlines()\n",
    "        f.close()\n",
    "    \n",
    "    return lines"
   ]
  },
  {
   "cell_type": "code",
   "execution_count": 17,
   "metadata": {},
   "outputs": [],
   "source": [
    "def unzip_txt( gzipped ):\n",
    "    \n",
    "    with gzip.open( gzipped, 'rt') as f:\n",
    "        lines = f.readlines()\n",
    "        f.close()\n",
    "    \n",
    "    return lines"
   ]
  },
  {
   "cell_type": "code",
   "execution_count": 18,
   "metadata": {},
   "outputs": [],
   "source": [
    "def quick_save( obj, label=get_time() ):\n",
    "    \n",
    "    try:\n",
    "        out_file = open( label, 'wb')\n",
    "        pickle.dump( obj, out_file)\n",
    "        \n",
    "        # double check save\n",
    "        check_cpicore_set = pickle.load(open(cpiset_out, 'rb'))\n",
    "        check_cpicore_set = None\n",
    "        \n",
    "    except:\n",
    "        \"There was a problem pickling the object - Save manually.\""
   ]
  },
  {
   "cell_type": "markdown",
   "metadata": {},
   "source": [
    "Data Munging"
   ]
  },
  {
   "cell_type": "code",
   "execution_count": 19,
   "metadata": {},
   "outputs": [],
   "source": [
    "def info_dict( rules, info ):\n",
    "    rules_list = rules.split(\"|\")\n",
    "    \n",
    "    if len(rules_list) != len(info):\n",
    "        return {}\n",
    "    \n",
    "    else:\n",
    "        return { rules_list[i]:info[i] for i in range(len(rules_list)) }"
   ]
  },
  {
   "cell_type": "code",
   "execution_count": 20,
   "metadata": {},
   "outputs": [],
   "source": [
    "def host_to_info_dict( zip_txt ):\n",
    "    contents = unzip_txt( zip_txt )\n",
    "    host_name = contents[1].partition(\" \")[2][:11]\n",
    "    out_dict = { host_name: {} }\n",
    "    host_info = {}\n",
    "    info_dict = { \"Data\":{},\n",
    "                    \"Job\":\"N/A\",\n",
    "                    \"Schemas\":{},\n",
    "                    \"Specs\":[]\n",
    "                }\n",
    "    \n",
    "    for line in contents:\n",
    "            \n",
    "        if line[0] == \"$\":\n",
    "            info_dict[\"Specs\"].append( format_spec( line ) )\n",
    "            \n",
    "        elif line[0] == \"!\":\n",
    "            info_dict[\"Schemas\"].update( format_schema( line ) )\n",
    "        \n",
    "        else:\n",
    "            \n",
    "            if (len(line) > 0) and (len(line) < 3 or check_header( line )):\n",
    "                header_dict = format_header( line )\n",
    "                \n",
    "                if header_dict:\n",
    "                    t = header_dict[\"Timestamp\"]\n",
    "                    host_info[ t ] = {}\n",
    "                    \n",
    "                    if check_job( header_dict[\"Jobid\"] ):\n",
    "                        info_dict[\"Job\"] = { \"Jobid\": header_dict[\"Jobid\"] } \n",
    "                    \n",
    "            else:\n",
    "                incoming = format_data( line )\n",
    "                info_dict[\"Data\"].update(incoming)\n",
    "                \n",
    "                host_info[t].update( info_dict )\n",
    "                \n",
    "    out_dict[host_name].update( host_info )\n",
    "    \n",
    "    return out_dict"
   ]
  },
  {
   "cell_type": "code",
   "execution_count": 21,
   "metadata": {},
   "outputs": [],
   "source": [
    "def job_to_info_dict( txt_file_list ):\n",
    "    nodes_by_date = {}\n",
    "    unsaved = []\n",
    "\n",
    "    for date in txt_file_list:\n",
    "        try:\n",
    "            # skip alt files\n",
    "            #check_stamp = int( date[-14] )\n",
    "            \n",
    "            # read in file contents\n",
    "            contents = open_txt( date )\n",
    "            \n",
    "            # formatting\n",
    "            label = date[-14:-4]\n",
    "            rules = contents[0]\n",
    "            jobs = contents[1:]\n",
    "            \n",
    "            # template to save\n",
    "            nodes_by_date[ label ] = {}\n",
    "            nodes_by_date[ label ][\"multiple\"] = {}\n",
    "            nodes_by_date[ label ][\"rules\"] = rules\n",
    "            \n",
    "            # run through lines in file\n",
    "            for job in jobs:\n",
    "                line = job.split(\"|\")\n",
    "                node = line[-1]\n",
    "                info = info_dict( rules, line )\n",
    "                \n",
    "                # save multiple node jobs to specified loc\n",
    "                if len(node) > 12:\n",
    "                    nodes = format_nodelist( info )\n",
    "                    for node in nodes:\n",
    "                        nodes_by_date[ label ][ \"multiple\" ][ node ] = info\n",
    "                \n",
    "                else:\n",
    "                    nodes_by_date[ label ][ node[:11] ] = info\n",
    "        except:\n",
    "            unsaved.append(date)\n",
    "            \n",
    "    \n",
    "    return nodes_by_date, unsaved"
   ]
  },
  {
   "cell_type": "markdown",
   "metadata": {},
   "source": [
    "Formatting"
   ]
  },
  {
   "cell_type": "code",
   "execution_count": 22,
   "metadata": {},
   "outputs": [],
   "source": [
    "def format_header( line ):\n",
    "    chunks = line.split(\" \")\n",
    "    \n",
    "    try:\n",
    "        if chunks[0][0] == '%':\n",
    "            return {}\n",
    "        else:\n",
    "            return { \"Timestamp\": get_time( chunks[0] ), \n",
    "                     \"Jobid\": chunks[1],\n",
    "                     \"Host\": chunks[2][:11] }\n",
    "        \n",
    "    except:\n",
    "        return {}"
   ]
  },
  {
   "cell_type": "code",
   "execution_count": 23,
   "metadata": {},
   "outputs": [],
   "source": [
    "def format_nodelist( nodelist ):\n",
    "    purged = nodelist.replace('[','').replace(']','').replace(',','-').replace('-','').split(\"comet\")[1:]\n",
    "    nodes = []\n",
    "    \n",
    "    for item in purged:\n",
    "        base = item[:2]\n",
    "        prev = 2\n",
    "        \n",
    "        for i in range( 4,len(item)+1,2 ):\n",
    "            node = 'comet' + '-' + base + '-' + item[ prev:i ]\n",
    "            nodes.append(node)\n",
    "            prev = i\n",
    "    return nodes"
   ]
  },
  {
   "cell_type": "code",
   "execution_count": 24,
   "metadata": {},
   "outputs": [],
   "source": [
    "def format_spec( line ):\n",
    "    return line[1:-1]"
   ]
  },
  {
   "cell_type": "code",
   "execution_count": 25,
   "metadata": {},
   "outputs": [],
   "source": [
    "def format_data( line ):\n",
    "    chunks = line.split(\" \")\n",
    "    \n",
    "    stat = chunks[0]\n",
    "    dev = chunks[1]\n",
    "    data = chunks[2:-1]\n",
    "    \n",
    "    return { (stat,dev): data }"
   ]
  },
  {
   "cell_type": "code",
   "execution_count": 26,
   "metadata": {},
   "outputs": [],
   "source": [
    "def format_schema( line ):\n",
    "    chunks = line.partition(\" \")\n",
    "    stat = chunks[0][1:]\n",
    "    \n",
    "    temp_sch = chunks[2:][0][:-1].replace(\",E\",\"\").replace(\",C\",\"\").split(\" \")\n",
    "    fin_sch = []\n",
    "    \n",
    "    for item in temp_sch:\n",
    "        \n",
    "        if item.find(\"=\") > -1:\n",
    "            new = item.replace(\",\",\"(\") + \")\"\n",
    "            fin_sch.append( new )\n",
    "        \n",
    "        else:\n",
    "            fin_sch.append( item )\n",
    "    \n",
    "    return { stat:fin_sch }"
   ]
  },
  {
   "cell_type": "markdown",
   "metadata": {},
   "source": [
    "Data analysis"
   ]
  },
  {
   "cell_type": "code",
   "execution_count": 27,
   "metadata": {},
   "outputs": [],
   "source": [
    "def timely_dict( host_data, host_name ):\n",
    "    stamps = list(host_data[ host_name ].keys())\n",
    "    schemas = host_data[ host_name ][ stamps[0] ][\"Schemas\"]\n",
    "    timely_data = []\n",
    "    \n",
    "    for stamp in stamps:\n",
    "        for key,data in host_data[ host_name ][ stamp ][\"Data\"].items():\n",
    "            \n",
    "            stat = key[0]\n",
    "            dev = key[1]\n",
    "            \n",
    "            for i in range(len(data)):\n",
    "                metric = schemas[stat][i]\n",
    "            \n",
    "            info = (stat, metric, dev, int(data[i]), stamp)\n",
    "            timely_data.append( info )\n",
    "    \n",
    "    return timely_data"
   ]
  },
  {
   "cell_type": "markdown",
   "metadata": {},
   "source": [
    "# Accessing Info"
   ]
  },
  {
   "cell_type": "code",
   "execution_count": 28,
   "metadata": {},
   "outputs": [],
   "source": [
    "arc_data = [ locs['arc']+'/'+host_dir+'/'+stamp \n",
    "            for host_dir in listdir(locs['arc'])\n",
    "            for stamp in listdir(locs['arc']+'/'+host_dir)  ]\n",
    "\n",
    "aofa_data = [ locs['aofa']+'/'+host_dir+'/'+stamp \n",
    "            for host_dir in listdir(locs['aofa'])\n",
    "            for stamp in listdir(locs['aofa']+'/'+host_dir)  ]"
   ]
  },
  {
   "cell_type": "code",
   "execution_count": 29,
   "metadata": {},
   "outputs": [],
   "source": [
    "acct_info_locs = [ locs['job_info']+'/'+stamp for stamp in listdir(locs['job_info']) ]\n",
    "dates = [ loc[-14:-4] for loc in acct_info_locs ]"
   ]
  },
  {
   "cell_type": "code",
   "execution_count": 30,
   "metadata": {},
   "outputs": [],
   "source": [
    "### Process all ###\n",
    "#arc_hosts = [ host_to_info_dict( host_file ) for host_file in arc_data[:1] ]\n",
    "#acct_hosts = job_to_info_dict( acct_info_locs[:1] )"
   ]
  },
  {
   "cell_type": "markdown",
   "metadata": {},
   "source": [
    "### Formatting Info"
   ]
  },
  {
   "cell_type": "code",
   "execution_count": 31,
   "metadata": {},
   "outputs": [],
   "source": [
    "temp_host = host_to_info_dict( arc_data[0] )\n",
    "temp_stamps = list(temp_host['comet-10-14'].keys())\n",
    "focus = temp_host['comet-10-14'][temp_stamps[0]]"
   ]
  },
  {
   "cell_type": "code",
   "execution_count": 32,
   "metadata": {},
   "outputs": [],
   "source": [
    "temp = acct_info_locs[0]\n",
    "temp_acct = open_txt( temp )"
   ]
  },
  {
   "cell_type": "code",
   "execution_count": 33,
   "metadata": {},
   "outputs": [
    {
     "data": {
      "text/plain": [
       "'N/A'"
      ]
     },
     "execution_count": 33,
     "metadata": {},
     "output_type": "execute_result"
    }
   ],
   "source": [
    "focus['Job']"
   ]
  },
  {
   "cell_type": "code",
   "execution_count": 34,
   "metadata": {},
   "outputs": [
    {
     "data": {
      "text/plain": [
       "['tacc_stats 2.3.4',\n",
       " 'hostname comet-10-14.sdsc.edu',\n",
       " 'uname Linux x86_64 3.10.0-957.12.2.el7.x86_64 #1 SMP Tue May 14 21:24:32 UTC 2019',\n",
       " 'uptime 4082659']"
      ]
     },
     "execution_count": 34,
     "metadata": {},
     "output_type": "execute_result"
    }
   ],
   "source": [
    "focus['Specs']"
   ]
  },
  {
   "cell_type": "code",
   "execution_count": 35,
   "metadata": {},
   "outputs": [
    {
     "data": {
      "text/plain": [
       "{'block': ['rd_ios',\n",
       "  'rd_merges',\n",
       "  'rd_sectors(U=512B)',\n",
       "  'rd_ticks(U=ms)',\n",
       "  'wr_ios',\n",
       "  'wr_merges',\n",
       "  'wr_sectors(U=512B)',\n",
       "  'wr_ticks(U=ms)',\n",
       "  'in_flight',\n",
       "  'io_ticks(U=ms)',\n",
       "  'time_in_queue(U=ms)'],\n",
       " 'cpu': ['user(U=cs)',\n",
       "  'nice(U=cs)',\n",
       "  'system(U=cs)',\n",
       "  'idle(U=cs)',\n",
       "  'iowait(U=cs)',\n",
       "  'irq(U=cs)',\n",
       "  'softirq(U=cs)'],\n",
       " 'ib': ['excessive_buffer_overrun_errors(W=32)',\n",
       "  'link_downed(W=32)',\n",
       "  'link_error_recovery(W=32)',\n",
       "  'local_link_integrity_errors(W=32)',\n",
       "  'port_rcv_constraint_errors(W=32)',\n",
       "  'port_rcv_data(U=4B(W=32)',\n",
       "  'port_rcv_errors(W=32)',\n",
       "  'port_rcv_packets(W=32)',\n",
       "  'port_rcv_remote_physical_errors(W=32)',\n",
       "  'port_rcv_switch_relay_errors(W=32)',\n",
       "  'port_xmit_constraint_errors(W=32)',\n",
       "  'port_xmit_data(U=4B(W=32)',\n",
       "  'port_xmit_discards(W=32)',\n",
       "  'port_xmit_packets(W=32)',\n",
       "  'port_xmit_wait(U=ms(W=32)',\n",
       "  'symbol_error(W=32)',\n",
       "  'VL15_dropped(W=32)'],\n",
       " 'ib_ext': ['port_select',\n",
       "  'counter_select',\n",
       "  'port_xmit_data(U=4B)',\n",
       "  'port_rcv_data(U=4B)',\n",
       "  'port_xmit_pkts',\n",
       "  'port_rcv_pkts',\n",
       "  'port_unicast_xmit_pkts',\n",
       "  'port_unicast_rcv_pkts',\n",
       "  'port_multicast_xmit_pkts',\n",
       "  'port_multicast_rcv_pkts'],\n",
       " 'ib_sw': ['rx_bytes(U=4B)', 'rx_packets', 'tx_bytes(U=4B)', 'tx_packets'],\n",
       " 'intel_8pmc3': ['CTL0',\n",
       "  'CTL1',\n",
       "  'CTL2',\n",
       "  'CTL3',\n",
       "  'CTL4',\n",
       "  'CTL5',\n",
       "  'CTL6',\n",
       "  'CTL7',\n",
       "  'CTR0(W=48)',\n",
       "  'CTR1(W=48)',\n",
       "  'CTR2(W=48)',\n",
       "  'CTR3(W=48)',\n",
       "  'CTR4(W=48)',\n",
       "  'CTR5(W=48)',\n",
       "  'CTR6(W=48)',\n",
       "  'CTR7(W=48)',\n",
       "  'FIXED_CTR0(W=48)',\n",
       "  'FIXED_CTR1(W=48)',\n",
       "  'FIXED_CTR2(W=48)'],\n",
       " 'intel_hsw_cbo': ['CTL0',\n",
       "  'CTL1',\n",
       "  'CTL2',\n",
       "  'CTL3',\n",
       "  'CTR0(W=48)',\n",
       "  'CTR1(W=48)',\n",
       "  'CTR2(W=48)',\n",
       "  'CTR3(W=48)'],\n",
       " 'intel_hsw_hau': ['CTL0',\n",
       "  'CTL1',\n",
       "  'CTL2',\n",
       "  'CTL3',\n",
       "  'CTR0(W=48)',\n",
       "  'CTR1(W=48)',\n",
       "  'CTR2(W=48)',\n",
       "  'CTR3(W=48)'],\n",
       " 'intel_hsw_imc': ['CTL0',\n",
       "  'CTL1',\n",
       "  'CTL2',\n",
       "  'CTL3',\n",
       "  'CTR0(W=48)',\n",
       "  'CTR1(W=48)',\n",
       "  'CTR2(W=48)',\n",
       "  'CTR3(W=48)',\n",
       "  'FIXED_CTR(W=48)'],\n",
       " 'intel_hsw_qpi': ['CTL0',\n",
       "  'CTL1',\n",
       "  'CTL2',\n",
       "  'CTL3',\n",
       "  'CTR0(U=flt(W=48)',\n",
       "  'CTR1(U=flt(W=48)',\n",
       "  'CTR2(U=flt(W=48)',\n",
       "  'CTR3(U=flt(W=48)'],\n",
       " 'intel_hsw_r2pci': ['CTL0',\n",
       "  'CTL1',\n",
       "  'CTL2',\n",
       "  'CTL3',\n",
       "  'CTR0(W=44)',\n",
       "  'CTR1(W=44)',\n",
       "  'CTR2(W=44)',\n",
       "  'CTR3(W=44)'],\n",
       " 'intel_rapl': ['MSR_PKG_ENERGY_STATUS(U=mJ(W=32)',\n",
       "  'MSR_PP0_ENERGY_STATUS(U=mJ(W=32)',\n",
       "  'MSR_DRAM_ENERGY_STATUS(U=mJ(W=32)'],\n",
       " 'llite': ['read_bytes(U=B)',\n",
       "  'write_bytes(U=B)',\n",
       "  'direct_read(U=B)',\n",
       "  'direct_write(U=B)',\n",
       "  'osc_read(U=B)',\n",
       "  'osc_write(U=B)',\n",
       "  'dirty_pages_hits',\n",
       "  'dirty_pages_misses',\n",
       "  'ioctl',\n",
       "  'open',\n",
       "  'close',\n",
       "  'mmap',\n",
       "  'seek',\n",
       "  'fsync',\n",
       "  'setattr',\n",
       "  'truncate',\n",
       "  'flock',\n",
       "  'getattr',\n",
       "  'statfs',\n",
       "  'alloc_inode',\n",
       "  'setxattr',\n",
       "  'getxattr',\n",
       "  'listxattr',\n",
       "  'removexattr',\n",
       "  'inode_permission',\n",
       "  'readdir',\n",
       "  'create',\n",
       "  'lookup',\n",
       "  'link',\n",
       "  'unlink',\n",
       "  'symlink',\n",
       "  'mkdir',\n",
       "  'rmdir',\n",
       "  'mknod',\n",
       "  'rename'],\n",
       " 'mdc': ['ldlm_cancel',\n",
       "  'mds_close',\n",
       "  'mds_getattr',\n",
       "  'mds_getattr_lock',\n",
       "  'mds_getxattr',\n",
       "  'mds_readpage',\n",
       "  'mds_statfs',\n",
       "  'mds_sync',\n",
       "  'reqs',\n",
       "  'wait(U=us)'],\n",
       " 'mem': ['MemTotal(U=KB)',\n",
       "  'MemFree(U=KB)',\n",
       "  'MemUsed(U=KB)',\n",
       "  'Active(U=KB)',\n",
       "  'Inactive(U=KB)',\n",
       "  'Dirty(U=KB)',\n",
       "  'Writeback(U=KB)',\n",
       "  'FilePages(U=KB)',\n",
       "  'Mapped(U=KB)',\n",
       "  'AnonPages(U=KB)',\n",
       "  'PageTables(U=KB)',\n",
       "  'NFS_Unstable(U=KB)',\n",
       "  'Bounce(U=KB)',\n",
       "  'Slab(U=KB)',\n",
       "  'AnonHugePages(U=KB)',\n",
       "  'HugePages_Total',\n",
       "  'HugePages_Free'],\n",
       " 'net': ['collisions',\n",
       "  'multicast',\n",
       "  'rx_bytes(U=B)',\n",
       "  'rx_compressed',\n",
       "  'rx_crc_errors',\n",
       "  'rx_dropped',\n",
       "  'rx_errors',\n",
       "  'rx_fifo_errors',\n",
       "  'rx_frame_errors',\n",
       "  'rx_length_errors',\n",
       "  'rx_missed_errors',\n",
       "  'rx_over_errors',\n",
       "  'rx_packets',\n",
       "  'tx_aborted_errors',\n",
       "  'tx_bytes(U=B)',\n",
       "  'tx_carrier_errors',\n",
       "  'tx_compressed',\n",
       "  'tx_dropped',\n",
       "  'tx_errors',\n",
       "  'tx_fifo_errors',\n",
       "  'tx_heartbeat_errors',\n",
       "  'tx_packets',\n",
       "  'tx_window_errors'],\n",
       " 'numa': ['numa_hit',\n",
       "  'numa_miss',\n",
       "  'numa_foreign',\n",
       "  'interleave_hit',\n",
       "  'local_node',\n",
       "  'other_node'],\n",
       " 'osc': ['read_bytes(U=B)',\n",
       "  'write_bytes(U=B)',\n",
       "  'ost_destroy',\n",
       "  'ost_punch',\n",
       "  'ost_read',\n",
       "  'ost_setattr',\n",
       "  'ost_statfs',\n",
       "  'ost_write',\n",
       "  'reqs',\n",
       "  'wait(U=us)'],\n",
       " 'proc': ['Uid',\n",
       "  'VmPeak(U=kB)',\n",
       "  'VmSize(U=kB)',\n",
       "  'VmLck(U=kB)',\n",
       "  'VmHWM(U=kB)',\n",
       "  'VmRSS(U=kB)',\n",
       "  'VmData(U=kB)',\n",
       "  'VmStk(U=kB)',\n",
       "  'VmExe(U=kB)',\n",
       "  'VmLib(U=kB)',\n",
       "  'VmPTE(U=kB)',\n",
       "  'VmSwap(U=kB)',\n",
       "  'Threads'],\n",
       " 'ps': ['ctxt',\n",
       "  'processes',\n",
       "  'load_1',\n",
       "  'load_5',\n",
       "  'load_15',\n",
       "  'nr_running',\n",
       "  'nr_threads'],\n",
       " 'sysv_shm': ['mem_used(U=B)', 'segs_used'],\n",
       " 'tmpfs': ['bytes_used(U=B)', 'files_used'],\n",
       " 'vfs': ['dentry_use', 'file_use', 'inode_use'],\n",
       " 'vm': ['nr_anon_transparent_hugepages',\n",
       "  'pgpgin(U=KB)',\n",
       "  'pgpgout(U=KB)',\n",
       "  'pswpin',\n",
       "  'pswpout',\n",
       "  'pgalloc_normal',\n",
       "  'pgfree',\n",
       "  'pgactivate',\n",
       "  'pgdeactivate',\n",
       "  'pgfault',\n",
       "  'pgmajfault',\n",
       "  'pgrefill_normal',\n",
       "  'pgsteal_normal',\n",
       "  'pgscan_kswapd_normal',\n",
       "  'pgscan_direct_normal',\n",
       "  'pginodesteal',\n",
       "  'slabs_scanned',\n",
       "  'kswapd_steal',\n",
       "  'kswapd_inodesteal',\n",
       "  'pageoutrun',\n",
       "  'allocstall',\n",
       "  'pgrotated',\n",
       "  'thp_fault_alloc',\n",
       "  'thp_fault_fallback',\n",
       "  'thp_collapse_alloc',\n",
       "  'thp_collapse_alloc_failed',\n",
       "  'thp_split']}"
      ]
     },
     "execution_count": 35,
     "metadata": {},
     "output_type": "execute_result"
    }
   ],
   "source": [
    "focus['Schemas']"
   ]
  },
  {
   "cell_type": "code",
   "execution_count": null,
   "metadata": {},
   "outputs": [],
   "source": [
    "org_data = {}\n",
    "\n",
    "for host in temp_host.keys():\n",
    "    for ts in temp_host[host]:\n",
    "        for stat_key,data in temp_host[host][ts]['Data'].items():\n",
    "            if stat_key not in org_data:\n",
    "                org_data[stat_key] = [(ts,data)]\n",
    "            else:\n",
    "                org_data[stat_key].append( (ts,data) )\n",
    "org_data"
   ]
  },
  {
   "cell_type": "code",
   "execution_count": null,
   "metadata": {},
   "outputs": [],
   "source": [
    "test_timely = timely_dict( temp_host,'comet-10-14' )\n",
    "test_timely"
   ]
  },
  {
   "cell_type": "markdown",
   "metadata": {},
   "source": [
    "# Account Info "
   ]
  },
  {
   "cell_type": "code",
   "execution_count": null,
   "metadata": {},
   "outputs": [],
   "source": [
    "temp"
   ]
  },
  {
   "cell_type": "code",
   "execution_count": null,
   "metadata": {},
   "outputs": [],
   "source": [
    "temp_acct"
   ]
  },
  {
   "cell_type": "markdown",
   "metadata": {},
   "source": [
    "### Formatting Account Info"
   ]
  },
  {
   "cell_type": "code",
   "execution_count": null,
   "metadata": {
    "scrolled": true
   },
   "outputs": [],
   "source": [
    "rules = temp_acct[0].split(\"|\")\n",
    "rules_ex = temp_acct[1].split(\"|\")\n",
    "sample_acct = { rules[i]:rules_ex[i] for i in range(len(rules)) }\n",
    "sample_acct"
   ]
  },
  {
   "cell_type": "code",
   "execution_count": null,
   "metadata": {},
   "outputs": [],
   "source": []
  }
 ],
 "metadata": {
  "kernelspec": {
   "display_name": "Python 3",
   "language": "python",
   "name": "python3"
  },
  "language_info": {
   "codemirror_mode": {
    "name": "ipython",
    "version": 3
   },
   "file_extension": ".py",
   "mimetype": "text/x-python",
   "name": "python",
   "nbconvert_exporter": "python",
   "pygments_lexer": "ipython3",
   "version": "3.6.8"
  }
 },
 "nbformat": 4,
 "nbformat_minor": 2
}
