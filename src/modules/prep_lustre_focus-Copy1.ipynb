{
 "cells": [
  {
   "cell_type": "markdown",
   "metadata": {},
   "source": [
    "## Dependencies"
   ]
  },
  {
   "cell_type": "code",
   "execution_count": 1,
   "metadata": {},
   "outputs": [],
   "source": [
    "# System dependencies\n",
    "from os import listdir\n",
    "import time as clock\n",
    "from datetime import timedelta\n",
    "from IPython.display import clear_output\n",
    "import pickle"
   ]
  },
  {
   "cell_type": "code",
   "execution_count": 2,
   "metadata": {},
   "outputs": [],
   "source": [
    "# Data manipulation dependencies\n",
    "import pandas as pd\n",
    "import numpy as np\n",
    "import datetime as dt"
   ]
  },
  {
   "cell_type": "code",
   "execution_count": 3,
   "metadata": {},
   "outputs": [],
   "source": [
    "# Custom data handling methods\n",
    "import prep_IO"
   ]
  },
  {
   "cell_type": "code",
   "execution_count": 4,
   "metadata": {},
   "outputs": [],
   "source": [
    "# Directory of pre-determined lustre failed jobs\n",
    "#1) emailed set, 2) emailed set\n",
    "#first_src = './lustre_fail_set.txt'\n",
    "\n",
    "# 3) 9/21 - 9/23 4) 10/14\n",
    "#rem_src = [ '/oasis/projects/nsf/sys200/stats/xsede_stats/comet_accounting/2019-09-21.txt',\n",
    "#        '/oasis/projects/nsf/sys200/stats/xsede_stats/comet_accounting/2019-09-22.txt',\n",
    "#        '/oasis/projects/nsf/sys200/stats/xsede_stats/comet_accounting/2019-09-23.txt',\n",
    "#        '/oasis/projects/nsf/sys200/stats/xsede_stats/comet_accounting/2019-10-14.txt']\n",
    "src =  './lustre_set.pkl'"
   ]
  },
  {
   "cell_type": "markdown",
   "metadata": {},
   "source": [
    "## Data"
   ]
  },
  {
   "cell_type": "code",
   "execution_count": 5,
   "metadata": {},
   "outputs": [],
   "source": [
    "# Given: 'JobID|User|Account|Start|End|Submit|Partition|Timelimit|JobName|State|NNodes|ReqCPUS|NodeList\\n'\n",
    "# DNI: User, Account, JobName\n",
    "# Else: OK"
   ]
  },
  {
   "cell_type": "code",
   "execution_count": 8,
   "metadata": {},
   "outputs": [
    {
     "data": {
      "text/plain": [
       "113624"
      ]
     },
     "execution_count": 8,
     "metadata": {},
     "output_type": "execute_result"
    }
   ],
   "source": [
    "# temp test\n",
    "f = open(src,\"rb\")\n",
    "test_out = pickle.load( f )\n",
    "len(test_out)"
   ]
  },
  {
   "cell_type": "code",
   "execution_count": 9,
   "metadata": {},
   "outputs": [
    {
     "data": {
      "text/plain": [
       "[('comet-14-72', '2020-05-13T02:11:38', '2020-05-13T05:07:34', '33301074'),\n",
       " ('comet-19-19', '2020-05-13T02:11:38', '2020-05-13T05:07:34', '33301074'),\n",
       " ('comet-28-55', '2020-05-13T02:11:38', '2020-05-13T05:07:34', '33301074'),\n",
       " ('comet-30-10', '2020-05-13T10:50:08', '2020-05-13T10:50:12', '33321014'),\n",
       " ('comet-06-46', '2020-05-12T06:40:43', '2020-05-13T14:27:44', '33283100'),\n",
       " ('comet-12-52', '2020-05-12T06:40:43', '2020-05-13T14:27:44', '33283100'),\n",
       " ('comet-22-39', '2020-05-12T06:40:43', '2020-05-13T14:27:44', '33283100'),\n",
       " ('comet-22-64', '2020-05-12T06:40:43', '2020-05-13T14:27:44', '33283100'),\n",
       " ('comet-21-07', '2020-05-27T08:49:26', '2020-05-28T01:27:49', '33637231'),\n",
       " ('comet-22-48', '2020-05-27T09:32:35', '2020-05-28T00:25:06', '33637422')]"
      ]
     },
     "execution_count": 9,
     "metadata": {},
     "output_type": "execute_result"
    }
   ],
   "source": [
    "test_out[:10]"
   ]
  },
  {
   "cell_type": "code",
   "execution_count": null,
   "metadata": {},
   "outputs": [],
   "source": [
    "search_out_A = prep_IO.search( mode='l', from_list=test_out )\n",
    "\n",
    "save_thing = search_out_A\n",
    "f = open(\"lustre_set_files_A.pkl\",\"wb\")\n",
    "pickle.dump( save_thing,f )\n",
    "f.close()\n",
    "\n",
    "len(search_out_A)"
   ]
  },
  {
   "cell_type": "code",
   "execution_count": null,
   "metadata": {},
   "outputs": [],
   "source": [
    "search_out_B = prep_IO.deep_search_host( test_out, jobids=True )\n",
    "\n",
    "save_thing = search_out_B\n",
    "f = open(\"lustre_set_files_B.pkl\",\"wb\")\n",
    "pickle.dump( save_thing,f )\n",
    "f.close()\n",
    "\n",
    "len(search_out_B)"
   ]
  },
  {
   "cell_type": "markdown",
   "metadata": {},
   "source": [
    "#### PAUSE FOR DEBUG"
   ]
  },
  {
   "cell_type": "code",
   "execution_count": null,
   "metadata": {},
   "outputs": [],
   "source": [
    "def fill_host_source( deep_out_dict ):\n",
    "    return { search_key : host_to_info_dict( source_dict[\"Source\"][0] )\n",
    "                for search_key,source_dict in deep_out_dict.items() }\n",
    "\n",
    "def host_to_info_dict( zip_txt, find_id=False ):\n",
    "    l = zip_txt.find(\"comet\")\n",
    "    r = zip_txt.rfind(\"comet\")\n",
    "    \n",
    "    if l != r:\n",
    "        return zip_txt\n",
    "    \n",
    "    contents = prep_IO.unzip_txt( zip_txt )\n",
    "    #host_name = contents[1].partition(\" \")[2][:11]\n",
    "    info_dict = { \"Schemas\":{}, \"Specs\":[],\n",
    "                  \"Data\":{}, \"Jobid(s)\":[]\n",
    "                }\n",
    "    data_start = 0\n",
    "    \n",
    "    for i in range(len( contents )):\n",
    "        line = contents[ i ]\n",
    "        \n",
    "        # Spec line\n",
    "        if line[0] == \"$\":\n",
    "            info_dict[\"Specs\"].append( prep_IO.format_spec( line ) )\n",
    "        \n",
    "        # Schema line    \n",
    "        elif line[0] == \"!\":\n",
    "            info_dict[\"Schemas\"].update( prep_IO.format_schema( line ) )\n",
    "                \n",
    "        # Start of variable content options\n",
    "        else:\n",
    "            data_start = i\n",
    "    \n",
    "    curr_header = ''\n",
    "    for j in range( data_start, len(contents) ):\n",
    "        line = contents[ j ]\n",
    "\n",
    "        # Header line\n",
    "        if prep_IO.check_header( line ):\n",
    "            header_dict = prep_IO.format_header( line )\n",
    "            curr_header = line\n",
    "                                        \n",
    "            if header_dict:\n",
    "                info_dict[\"Data\"][ curr_header ] = {} \n",
    "                    \n",
    "            if prep_IO.check_job( header_dict[\"Jobid\"] ):\n",
    "                curr_jobid = header_dict[\"Jobid\"]\n",
    "                info_dict[\"Jobid(s)\"].append( curr_jobid )\n",
    "\n",
    "        # Data line\n",
    "        else:\n",
    "            curr_data = prep_IO.format_data( line )\n",
    "            info_dict[\"Data\"][curr_header].update( curr_data )\n",
    "    \n",
    "    return info_dict"
   ]
  },
  {
   "cell_type": "code",
   "execution_count": null,
   "metadata": {},
   "outputs": [],
   "source": [
    "deep_out = deep_search_host( test_out, jobids=True )\n",
    "deep_out"
   ]
  },
  {
   "cell_type": "code",
   "execution_count": null,
   "metadata": {},
   "outputs": [],
   "source": [
    "test_key = ('comet-14-72',\n",
    "  '2020-05-13T02:11:38',\n",
    "  '2020-05-13T05:07:34',\n",
    "  '33301074')\n",
    "\n",
    "host_to_info_dict( deep_out[test_key][\"Source\"][0] )"
   ]
  },
  {
   "cell_type": "markdown",
   "metadata": {},
   "source": [
    "#### RESUME"
   ]
  },
  {
   "cell_type": "code",
   "execution_count": null,
   "metadata": {},
   "outputs": [],
   "source": [
    "keys = list(search_out.keys())\n",
    "len(keys)"
   ]
  },
  {
   "cell_type": "code",
   "execution_count": null,
   "metadata": {},
   "outputs": [],
   "source": [
    "sample_key = keys[0]\n",
    "sample = search_out[ sample_key ]\n",
    "print( sample_key )\n",
    "print( sample.keys() )"
   ]
  },
  {
   "cell_type": "code",
   "execution_count": null,
   "metadata": {},
   "outputs": [],
   "source": [
    "sample[\"Source Files\"]"
   ]
  },
  {
   "cell_type": "code",
   "execution_count": null,
   "metadata": {},
   "outputs": [],
   "source": [
    "sample['Acct Info']"
   ]
  },
  {
   "cell_type": "code",
   "execution_count": null,
   "metadata": {},
   "outputs": [],
   "source": [
    "sample['Host Info'].keys()"
   ]
  },
  {
   "cell_type": "code",
   "execution_count": null,
   "metadata": {},
   "outputs": [],
   "source": [
    "sample['Host Info'][\"Specs\"]"
   ]
  },
  {
   "cell_type": "code",
   "execution_count": null,
   "metadata": {},
   "outputs": [],
   "source": [
    "sample['Host Info'][\"Timely Data\"]"
   ]
  },
  {
   "cell_type": "markdown",
   "metadata": {},
   "source": [
    "# Save search_out for demo_ use"
   ]
  },
  {
   "cell_type": "code",
   "execution_count": null,
   "metadata": {},
   "outputs": [],
   "source": [
    "save_thing = deep_out\n",
    "f = open(\"lustre_set_files.pkl\",\"wb\")\n",
    "pickle.dump( save_thing,f )\n",
    "f.close()"
   ]
  },
  {
   "cell_type": "code",
   "execution_count": null,
   "metadata": {},
   "outputs": [],
   "source": []
  }
 ],
 "metadata": {
  "kernelspec": {
   "display_name": "Python 3",
   "language": "python",
   "name": "python3"
  },
  "language_info": {
   "codemirror_mode": {
    "name": "ipython",
    "version": 3
   },
   "file_extension": ".py",
   "mimetype": "text/x-python",
   "name": "python",
   "nbconvert_exporter": "python",
   "pygments_lexer": "ipython3",
   "version": "3.6.8"
  }
 },
 "nbformat": 4,
 "nbformat_minor": 2
}
